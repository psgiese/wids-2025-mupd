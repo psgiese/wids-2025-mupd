{
 "cells": [
  {
   "cell_type": "markdown",
   "metadata": {},
   "source": [
    "# Imports"
   ]
  },
  {
   "cell_type": "code",
   "execution_count": 1,
   "metadata": {},
   "outputs": [],
   "source": [
    "import pandas as pd\n",
    "import numpy as np\n",
    "import os\n",
    "from pathlib import Path\n",
    "from sklearn.model_selection import train_test_split, cross_val_score\n",
    "from sklearn.ensemble import RandomForestClassifier, GradientBoostingClassifier, VotingClassifier\n",
    "import matplotlib.pyplot as plt\n",
    "import seaborn as sns\n",
    "from sklearn.metrics import accuracy_score, f1_score\n",
    "from sklearn.metrics import precision_recall_curve, confusion_matrix,roc_curve, roc_auc_score\n",
    "from sklearn.model_selection import StratifiedKFold\n"
   ]
  },
  {
   "cell_type": "code",
   "execution_count": 2,
   "metadata": {},
   "outputs": [],
   "source": [
    "\n",
    "validation_ids = pd.read_csv('/Users/paigegiese/SYG/wids-2025-mupd/data/TRAIN/validation_ids.csv')['participant_id'].tolist()\n",
    "d1 = pd.read_csv('/Users/paigegiese/SYG/wids-2025-mupd/data/TRAIN/TRAIN_CATEGORICAL_METADATA.csv')\n",
    "d1 = d1.loc[~d1['participant_id'].isin(validation_ids)].reset_index(drop=True)\n",
    "d2 = pd.read_csv('/Users/paigegiese/SYG/wids-2025-mupd/data/TRAIN/TRAIN_QUANTITATIVE_METADATA.csv')\n",
    "d2 = d2.loc[~d2['participant_id'].isin(validation_ids)].reset_index(drop=True)\n",
    "labels = pd.read_csv('/Users/paigegiese/SYG/wids-2025-mupd/data/TRAIN/TRAINING_SOLUTIONS.csv')\n",
    "labels = labels.loc[~labels['participant_id'].isin(validation_ids)].reset_index(drop=True)\n",
    "df = d1.merge(d2, on='participant_id').merge(labels, on='participant_id')\n"
   ]
  },
  {
   "cell_type": "markdown",
   "metadata": {},
   "source": [
    "# Features from EDA"
   ]
  },
  {
   "cell_type": "code",
   "execution_count": 3,
   "metadata": {},
   "outputs": [],
   "source": [
    "# limiting to only a few of the most salient features from EDA\n",
    "adhd_cols = ['participant_id', \n",
    "'Basic_Demos_Enroll_Year',\n",
    "'Basic_Demos_Study_Site',\n",
    "'MRI_Track_Scan_Location',\n",
    "'APQ_P_APQ_P_CP',\n",
    "'APQ_P_APQ_P_ID', \n",
    "'APQ_P_APQ_P_INV',\n",
    "'APQ_P_APQ_P_OPD',\n",
    "'APQ_P_APQ_P_PM', \n",
    "'APQ_P_APQ_P_PP',\n",
    "'SDQ_SDQ_Conduct_Problems', \n",
    "'SDQ_SDQ_Difficulties_Total',\n",
    "'SDQ_SDQ_Emotional_Problems',\n",
    "'SDQ_SDQ_Externalizing',\n",
    "'SDQ_SDQ_Generating_Impact', \n",
    "'SDQ_SDQ_Hyperactivity',\n",
    "'SDQ_SDQ_Internalizing',\n",
    "'SDQ_SDQ_Peer_Problems', \n",
    "'SDQ_SDQ_Prosocial',\n",
    "'MRI_Track_Age_at_Scan',\n",
    "'ADHD_Outcome',\n",
    "'Sex_F'\n",
    " ]\n",
    "\n",
    "# female_cols = ['ColorVision_CV_Score',\n",
    "# 'SDQ_SDQ_Emotional_Problems',\n",
    "# 'SDQ_SDQ_Externalizing',\n",
    "# 'SDQ_SDQ_Hyperactivity',\n",
    "# 'SDQ_SDQ_Internalizing',\n",
    "# 'SDQ_SDQ_Prosocial',\n",
    "# 'Sex_F',\n",
    "# 'participant_id']\n",
    "female_cols = adhd_cols.copy()\n",
    "female_cols.extend(['ColorVision_CV_Score','EHQ_EHQ_Total','Barratt_Barratt_P1_Edu', 'Barratt_Barratt_P2_Edu'])\n",
    "\n",
    "\n",
    "sex_df = df.loc[:,female_cols]\n",
    "adhd_df = df.loc[:,adhd_cols]"
   ]
  },
  {
   "cell_type": "code",
   "execution_count": 4,
   "metadata": {},
   "outputs": [],
   "source": [
    "# Barratt_Barratt_P1_Edu 21, 18, 15, 12\n",
    "# Barratt_Barratt_P2_Edu 21, 18, 0, 15, 12\n",
    "#sex_df['Barratt_Barratt_P2_Edu'].value_counts(normalize=True).cumsum()[:5].index\n"
   ]
  },
  {
   "attachments": {},
   "cell_type": "markdown",
   "metadata": {},
   "source": [
    "# ADHD Model"
   ]
  },
  {
   "cell_type": "markdown",
   "metadata": {},
   "source": [
    "## Preprocessing"
   ]
  },
  {
   "cell_type": "code",
   "execution_count": 5,
   "metadata": {},
   "outputs": [],
   "source": [
    "# ugly, but can speed me up later.\n",
    "def prep(df):\n",
    "    df['Basic_Demos_Enroll_Year'] = df['Basic_Demos_Enroll_Year'].astype('str')\n",
    "    df['Basic_Demos_Study_Site'] = df['Basic_Demos_Study_Site'].astype('str')\n",
    "    df['MRI_Track_Scan_Location'] = df['MRI_Track_Scan_Location'].astype('str')\n",
    "    df['TF_MRI_Track_Age_at_Scan'] = pd.cut(df['MRI_Track_Age_at_Scan'], 4, labels=False).fillna('Missing')\n",
    "    try:\n",
    "        df['Barratt_Barratt_P1_Edu'] = df['Barratt_Barratt_P1_Edu'].astype('str')\n",
    "        df['Barratt_Barratt_P2_Edu'] = df['Barratt_Barratt_P2_Edu'].astype('str')\n",
    "        df.loc[~df['Barratt_Barratt_P1_Edu'].isin(['21', '18', '15', '12']),'Barratt_Barratt_P1_Edu'] = 'Other' # grouping for noise\n",
    "        df.loc[~df['Barratt_Barratt_P2_Edu'].isin(['21', '18', '0', '15','12']),'Barratt_Barratt_P2_Edu'] = 'Other' # grouping for noise\n",
    "        \n",
    "    except: \n",
    "        pass\n",
    "    df.loc[df['TF_MRI_Track_Age_at_Scan']==0,'TF_MRI_Track_Age_at_Scan'] = 'Missing' # lumping in with Missing\n",
    "    df.loc[df['MRI_Track_Scan_Location']==0,'MRI_Track_Scan_Location'] = 'Missing' # to match the feature eng on MRI_Track_Age_at_Scan\n",
    "    try:\n",
    "        final_df = pd.get_dummies(df, columns=['Basic_Demos_Enroll_Year', 'MRI_Track_Scan_Location','TF_MRI_Track_Age_at_Scan','Basic_Demos_Study_Site','Barratt_Barratt_P1_Edu','Barratt_Barratt_P2_Edu']).reset_index(drop=True)\n",
    "        final_df['EHQ_EHQ_Total'] = final_df['EHQ_EHQ_Total']/10\n",
    "        final_df.drop(['Basic_Demos_Enroll_Year_2017', 'MRI_Track_Scan_Location_1','TF_MRI_Track_Age_at_Scan_3.0','Basic_Demos_Study_Site_4','Barratt_Barratt_P1_Edu_Other','Barratt_Barratt_P2_Edu_Other','MRI_Track_Age_at_Scan'], axis=1, inplace=True)\n",
    "    except:\n",
    "        final_df = pd.get_dummies(df, columns=['Basic_Demos_Enroll_Year', 'MRI_Track_Scan_Location','TF_MRI_Track_Age_at_Scan','Basic_Demos_Study_Site']).reset_index(drop=True)\n",
    "        final_df.drop(['Basic_Demos_Enroll_Year_2017', 'MRI_Track_Scan_Location_1','TF_MRI_Track_Age_at_Scan_3.0','Basic_Demos_Study_Site_4','MRI_Track_Age_at_Scan'], axis=1, inplace=True)\n",
    "        \n",
    "    #print(adhd_df.columns)\n",
    "    #adhd_df.set_index('participant_id', inplace=True)\n",
    "    \n",
    "\n",
    "    return final_df\n"
   ]
  },
  {
   "cell_type": "markdown",
   "metadata": {},
   "source": [
    "## Model run"
   ]
  },
  {
   "cell_type": "code",
   "execution_count": 146,
   "metadata": {},
   "outputs": [],
   "source": [
    "adhd_df = prep(adhd_df)"
   ]
  },
  {
   "cell_type": "code",
   "execution_count": 147,
   "metadata": {},
   "outputs": [
    {
     "data": {
      "text/html": [
       "<div>\n",
       "<style scoped>\n",
       "    .dataframe tbody tr th:only-of-type {\n",
       "        vertical-align: middle;\n",
       "    }\n",
       "\n",
       "    .dataframe tbody tr th {\n",
       "        vertical-align: top;\n",
       "    }\n",
       "\n",
       "    .dataframe thead th {\n",
       "        text-align: right;\n",
       "    }\n",
       "</style>\n",
       "<table border=\"1\" class=\"dataframe\">\n",
       "  <thead>\n",
       "    <tr style=\"text-align: right;\">\n",
       "      <th></th>\n",
       "      <th>participant_id</th>\n",
       "      <th>APQ_P_APQ_P_CP</th>\n",
       "      <th>APQ_P_APQ_P_ID</th>\n",
       "      <th>APQ_P_APQ_P_INV</th>\n",
       "      <th>APQ_P_APQ_P_OPD</th>\n",
       "      <th>APQ_P_APQ_P_PM</th>\n",
       "      <th>APQ_P_APQ_P_PP</th>\n",
       "      <th>SDQ_SDQ_Conduct_Problems</th>\n",
       "      <th>SDQ_SDQ_Difficulties_Total</th>\n",
       "      <th>SDQ_SDQ_Emotional_Problems</th>\n",
       "      <th>...</th>\n",
       "      <th>MRI_Track_Scan_Location_0</th>\n",
       "      <th>MRI_Track_Scan_Location_2</th>\n",
       "      <th>MRI_Track_Scan_Location_3</th>\n",
       "      <th>MRI_Track_Scan_Location_4</th>\n",
       "      <th>TF_MRI_Track_Age_at_Scan_1.0</th>\n",
       "      <th>TF_MRI_Track_Age_at_Scan_2.0</th>\n",
       "      <th>TF_MRI_Track_Age_at_Scan_Missing</th>\n",
       "      <th>Basic_Demos_Study_Site_1</th>\n",
       "      <th>Basic_Demos_Study_Site_2</th>\n",
       "      <th>Basic_Demos_Study_Site_3</th>\n",
       "    </tr>\n",
       "  </thead>\n",
       "  <tbody>\n",
       "    <tr>\n",
       "      <th>0</th>\n",
       "      <td>UmrK0vMLopoR</td>\n",
       "      <td>3</td>\n",
       "      <td>10</td>\n",
       "      <td>47</td>\n",
       "      <td>13</td>\n",
       "      <td>11</td>\n",
       "      <td>28</td>\n",
       "      <td>0</td>\n",
       "      <td>6</td>\n",
       "      <td>1</td>\n",
       "      <td>...</td>\n",
       "      <td>False</td>\n",
       "      <td>False</td>\n",
       "      <td>False</td>\n",
       "      <td>False</td>\n",
       "      <td>False</td>\n",
       "      <td>False</td>\n",
       "      <td>True</td>\n",
       "      <td>True</td>\n",
       "      <td>False</td>\n",
       "      <td>False</td>\n",
       "    </tr>\n",
       "    <tr>\n",
       "      <th>1</th>\n",
       "      <td>CPaeQkhcjg7d</td>\n",
       "      <td>3</td>\n",
       "      <td>13</td>\n",
       "      <td>34</td>\n",
       "      <td>18</td>\n",
       "      <td>23</td>\n",
       "      <td>30</td>\n",
       "      <td>0</td>\n",
       "      <td>18</td>\n",
       "      <td>6</td>\n",
       "      <td>...</td>\n",
       "      <td>False</td>\n",
       "      <td>False</td>\n",
       "      <td>True</td>\n",
       "      <td>False</td>\n",
       "      <td>False</td>\n",
       "      <td>False</td>\n",
       "      <td>True</td>\n",
       "      <td>False</td>\n",
       "      <td>False</td>\n",
       "      <td>True</td>\n",
       "    </tr>\n",
       "    <tr>\n",
       "      <th>2</th>\n",
       "      <td>Nb4EetVPm3gs</td>\n",
       "      <td>4</td>\n",
       "      <td>10</td>\n",
       "      <td>35</td>\n",
       "      <td>16</td>\n",
       "      <td>10</td>\n",
       "      <td>29</td>\n",
       "      <td>1</td>\n",
       "      <td>14</td>\n",
       "      <td>2</td>\n",
       "      <td>...</td>\n",
       "      <td>False</td>\n",
       "      <td>False</td>\n",
       "      <td>False</td>\n",
       "      <td>False</td>\n",
       "      <td>True</td>\n",
       "      <td>False</td>\n",
       "      <td>False</td>\n",
       "      <td>True</td>\n",
       "      <td>False</td>\n",
       "      <td>False</td>\n",
       "    </tr>\n",
       "    <tr>\n",
       "      <th>3</th>\n",
       "      <td>p4vPhVu91o4b</td>\n",
       "      <td>5</td>\n",
       "      <td>12</td>\n",
       "      <td>39</td>\n",
       "      <td>19</td>\n",
       "      <td>16</td>\n",
       "      <td>28</td>\n",
       "      <td>6</td>\n",
       "      <td>24</td>\n",
       "      <td>4</td>\n",
       "      <td>...</td>\n",
       "      <td>False</td>\n",
       "      <td>False</td>\n",
       "      <td>True</td>\n",
       "      <td>False</td>\n",
       "      <td>False</td>\n",
       "      <td>False</td>\n",
       "      <td>True</td>\n",
       "      <td>False</td>\n",
       "      <td>False</td>\n",
       "      <td>True</td>\n",
       "    </tr>\n",
       "    <tr>\n",
       "      <th>4</th>\n",
       "      <td>M09PXs7arQ5E</td>\n",
       "      <td>5</td>\n",
       "      <td>15</td>\n",
       "      <td>40</td>\n",
       "      <td>20</td>\n",
       "      <td>24</td>\n",
       "      <td>28</td>\n",
       "      <td>1</td>\n",
       "      <td>18</td>\n",
       "      <td>4</td>\n",
       "      <td>...</td>\n",
       "      <td>False</td>\n",
       "      <td>False</td>\n",
       "      <td>True</td>\n",
       "      <td>False</td>\n",
       "      <td>True</td>\n",
       "      <td>False</td>\n",
       "      <td>False</td>\n",
       "      <td>False</td>\n",
       "      <td>False</td>\n",
       "      <td>True</td>\n",
       "    </tr>\n",
       "    <tr>\n",
       "      <th>...</th>\n",
       "      <td>...</td>\n",
       "      <td>...</td>\n",
       "      <td>...</td>\n",
       "      <td>...</td>\n",
       "      <td>...</td>\n",
       "      <td>...</td>\n",
       "      <td>...</td>\n",
       "      <td>...</td>\n",
       "      <td>...</td>\n",
       "      <td>...</td>\n",
       "      <td>...</td>\n",
       "      <td>...</td>\n",
       "      <td>...</td>\n",
       "      <td>...</td>\n",
       "      <td>...</td>\n",
       "      <td>...</td>\n",
       "      <td>...</td>\n",
       "      <td>...</td>\n",
       "      <td>...</td>\n",
       "      <td>...</td>\n",
       "      <td>...</td>\n",
       "    </tr>\n",
       "    <tr>\n",
       "      <th>1027</th>\n",
       "      <td>8ZqEcqENo02n</td>\n",
       "      <td>3</td>\n",
       "      <td>10</td>\n",
       "      <td>45</td>\n",
       "      <td>13</td>\n",
       "      <td>14</td>\n",
       "      <td>28</td>\n",
       "      <td>0</td>\n",
       "      <td>0</td>\n",
       "      <td>0</td>\n",
       "      <td>...</td>\n",
       "      <td>False</td>\n",
       "      <td>False</td>\n",
       "      <td>False</td>\n",
       "      <td>False</td>\n",
       "      <td>False</td>\n",
       "      <td>True</td>\n",
       "      <td>False</td>\n",
       "      <td>True</td>\n",
       "      <td>False</td>\n",
       "      <td>False</td>\n",
       "    </tr>\n",
       "    <tr>\n",
       "      <th>1028</th>\n",
       "      <td>8RqLpySUwmWx</td>\n",
       "      <td>3</td>\n",
       "      <td>6</td>\n",
       "      <td>49</td>\n",
       "      <td>21</td>\n",
       "      <td>14</td>\n",
       "      <td>30</td>\n",
       "      <td>0</td>\n",
       "      <td>0</td>\n",
       "      <td>0</td>\n",
       "      <td>...</td>\n",
       "      <td>False</td>\n",
       "      <td>True</td>\n",
       "      <td>False</td>\n",
       "      <td>False</td>\n",
       "      <td>True</td>\n",
       "      <td>False</td>\n",
       "      <td>False</td>\n",
       "      <td>True</td>\n",
       "      <td>False</td>\n",
       "      <td>False</td>\n",
       "    </tr>\n",
       "    <tr>\n",
       "      <th>1029</th>\n",
       "      <td>Zusa1n9tQ3Yb</td>\n",
       "      <td>5</td>\n",
       "      <td>20</td>\n",
       "      <td>45</td>\n",
       "      <td>21</td>\n",
       "      <td>20</td>\n",
       "      <td>29</td>\n",
       "      <td>1</td>\n",
       "      <td>9</td>\n",
       "      <td>2</td>\n",
       "      <td>...</td>\n",
       "      <td>False</td>\n",
       "      <td>False</td>\n",
       "      <td>True</td>\n",
       "      <td>False</td>\n",
       "      <td>False</td>\n",
       "      <td>False</td>\n",
       "      <td>True</td>\n",
       "      <td>False</td>\n",
       "      <td>False</td>\n",
       "      <td>True</td>\n",
       "    </tr>\n",
       "    <tr>\n",
       "      <th>1030</th>\n",
       "      <td>Atx7oub96GXS</td>\n",
       "      <td>5</td>\n",
       "      <td>14</td>\n",
       "      <td>39</td>\n",
       "      <td>20</td>\n",
       "      <td>15</td>\n",
       "      <td>21</td>\n",
       "      <td>1</td>\n",
       "      <td>9</td>\n",
       "      <td>2</td>\n",
       "      <td>...</td>\n",
       "      <td>False</td>\n",
       "      <td>True</td>\n",
       "      <td>False</td>\n",
       "      <td>False</td>\n",
       "      <td>True</td>\n",
       "      <td>False</td>\n",
       "      <td>False</td>\n",
       "      <td>True</td>\n",
       "      <td>False</td>\n",
       "      <td>False</td>\n",
       "    </tr>\n",
       "    <tr>\n",
       "      <th>1031</th>\n",
       "      <td>rOmWFuJCud5G</td>\n",
       "      <td>3</td>\n",
       "      <td>14</td>\n",
       "      <td>34</td>\n",
       "      <td>18</td>\n",
       "      <td>23</td>\n",
       "      <td>23</td>\n",
       "      <td>4</td>\n",
       "      <td>9</td>\n",
       "      <td>0</td>\n",
       "      <td>...</td>\n",
       "      <td>False</td>\n",
       "      <td>False</td>\n",
       "      <td>True</td>\n",
       "      <td>False</td>\n",
       "      <td>False</td>\n",
       "      <td>True</td>\n",
       "      <td>False</td>\n",
       "      <td>False</td>\n",
       "      <td>False</td>\n",
       "      <td>True</td>\n",
       "    </tr>\n",
       "  </tbody>\n",
       "</table>\n",
       "<p>1032 rows × 33 columns</p>\n",
       "</div>"
      ],
      "text/plain": [
       "     participant_id  APQ_P_APQ_P_CP  APQ_P_APQ_P_ID  APQ_P_APQ_P_INV  \\\n",
       "0      UmrK0vMLopoR               3              10               47   \n",
       "1      CPaeQkhcjg7d               3              13               34   \n",
       "2      Nb4EetVPm3gs               4              10               35   \n",
       "3      p4vPhVu91o4b               5              12               39   \n",
       "4      M09PXs7arQ5E               5              15               40   \n",
       "...             ...             ...             ...              ...   \n",
       "1027   8ZqEcqENo02n               3              10               45   \n",
       "1028   8RqLpySUwmWx               3               6               49   \n",
       "1029   Zusa1n9tQ3Yb               5              20               45   \n",
       "1030   Atx7oub96GXS               5              14               39   \n",
       "1031   rOmWFuJCud5G               3              14               34   \n",
       "\n",
       "      APQ_P_APQ_P_OPD  APQ_P_APQ_P_PM  APQ_P_APQ_P_PP  \\\n",
       "0                  13              11              28   \n",
       "1                  18              23              30   \n",
       "2                  16              10              29   \n",
       "3                  19              16              28   \n",
       "4                  20              24              28   \n",
       "...               ...             ...             ...   \n",
       "1027               13              14              28   \n",
       "1028               21              14              30   \n",
       "1029               21              20              29   \n",
       "1030               20              15              21   \n",
       "1031               18              23              23   \n",
       "\n",
       "      SDQ_SDQ_Conduct_Problems  SDQ_SDQ_Difficulties_Total  \\\n",
       "0                            0                           6   \n",
       "1                            0                          18   \n",
       "2                            1                          14   \n",
       "3                            6                          24   \n",
       "4                            1                          18   \n",
       "...                        ...                         ...   \n",
       "1027                         0                           0   \n",
       "1028                         0                           0   \n",
       "1029                         1                           9   \n",
       "1030                         1                           9   \n",
       "1031                         4                           9   \n",
       "\n",
       "      SDQ_SDQ_Emotional_Problems  ...  MRI_Track_Scan_Location_0  \\\n",
       "0                              1  ...                      False   \n",
       "1                              6  ...                      False   \n",
       "2                              2  ...                      False   \n",
       "3                              4  ...                      False   \n",
       "4                              4  ...                      False   \n",
       "...                          ...  ...                        ...   \n",
       "1027                           0  ...                      False   \n",
       "1028                           0  ...                      False   \n",
       "1029                           2  ...                      False   \n",
       "1030                           2  ...                      False   \n",
       "1031                           0  ...                      False   \n",
       "\n",
       "      MRI_Track_Scan_Location_2  MRI_Track_Scan_Location_3  \\\n",
       "0                         False                      False   \n",
       "1                         False                       True   \n",
       "2                         False                      False   \n",
       "3                         False                       True   \n",
       "4                         False                       True   \n",
       "...                         ...                        ...   \n",
       "1027                      False                      False   \n",
       "1028                       True                      False   \n",
       "1029                      False                       True   \n",
       "1030                       True                      False   \n",
       "1031                      False                       True   \n",
       "\n",
       "      MRI_Track_Scan_Location_4  TF_MRI_Track_Age_at_Scan_1.0  \\\n",
       "0                         False                         False   \n",
       "1                         False                         False   \n",
       "2                         False                          True   \n",
       "3                         False                         False   \n",
       "4                         False                          True   \n",
       "...                         ...                           ...   \n",
       "1027                      False                         False   \n",
       "1028                      False                          True   \n",
       "1029                      False                         False   \n",
       "1030                      False                          True   \n",
       "1031                      False                         False   \n",
       "\n",
       "      TF_MRI_Track_Age_at_Scan_2.0  TF_MRI_Track_Age_at_Scan_Missing  \\\n",
       "0                            False                              True   \n",
       "1                            False                              True   \n",
       "2                            False                             False   \n",
       "3                            False                              True   \n",
       "4                            False                             False   \n",
       "...                            ...                               ...   \n",
       "1027                          True                             False   \n",
       "1028                         False                             False   \n",
       "1029                         False                              True   \n",
       "1030                         False                             False   \n",
       "1031                          True                             False   \n",
       "\n",
       "      Basic_Demos_Study_Site_1  Basic_Demos_Study_Site_2  \\\n",
       "0                         True                     False   \n",
       "1                        False                     False   \n",
       "2                         True                     False   \n",
       "3                        False                     False   \n",
       "4                        False                     False   \n",
       "...                        ...                       ...   \n",
       "1027                      True                     False   \n",
       "1028                      True                     False   \n",
       "1029                     False                     False   \n",
       "1030                      True                     False   \n",
       "1031                     False                     False   \n",
       "\n",
       "      Basic_Demos_Study_Site_3  \n",
       "0                        False  \n",
       "1                         True  \n",
       "2                        False  \n",
       "3                         True  \n",
       "4                         True  \n",
       "...                        ...  \n",
       "1027                     False  \n",
       "1028                     False  \n",
       "1029                      True  \n",
       "1030                     False  \n",
       "1031                      True  \n",
       "\n",
       "[1032 rows x 33 columns]"
      ]
     },
     "execution_count": 147,
     "metadata": {},
     "output_type": "execute_result"
    }
   ],
   "source": [
    "adhd_df"
   ]
  },
  {
   "cell_type": "code",
   "execution_count": 148,
   "metadata": {},
   "outputs": [],
   "source": [
    "X = adhd_df.drop(['ADHD_Outcome', 'Sex_F'], axis=1)\n",
    "y_adhd_outcome = adhd_df['ADHD_Outcome'].values\n",
    "X.set_index('participant_id', inplace=True)"
   ]
  },
  {
   "cell_type": "code",
   "execution_count": 149,
   "metadata": {},
   "outputs": [
    {
     "data": {
      "text/plain": [
       "APQ_P_APQ_P_CP                      0\n",
       "APQ_P_APQ_P_ID                      0\n",
       "APQ_P_APQ_P_INV                     0\n",
       "APQ_P_APQ_P_OPD                     0\n",
       "APQ_P_APQ_P_PM                      0\n",
       "APQ_P_APQ_P_PP                      0\n",
       "SDQ_SDQ_Conduct_Problems            0\n",
       "SDQ_SDQ_Difficulties_Total          0\n",
       "SDQ_SDQ_Emotional_Problems          0\n",
       "SDQ_SDQ_Externalizing               0\n",
       "SDQ_SDQ_Generating_Impact           0\n",
       "SDQ_SDQ_Hyperactivity               0\n",
       "SDQ_SDQ_Internalizing               0\n",
       "SDQ_SDQ_Peer_Problems               0\n",
       "SDQ_SDQ_Prosocial                   0\n",
       "Basic_Demos_Enroll_Year_2015        0\n",
       "Basic_Demos_Enroll_Year_2016        0\n",
       "Basic_Demos_Enroll_Year_2018        0\n",
       "Basic_Demos_Enroll_Year_2019        0\n",
       "Basic_Demos_Enroll_Year_2020        0\n",
       "MRI_Track_Scan_Location_0           0\n",
       "MRI_Track_Scan_Location_2           0\n",
       "MRI_Track_Scan_Location_3           0\n",
       "MRI_Track_Scan_Location_4           0\n",
       "TF_MRI_Track_Age_at_Scan_1.0        0\n",
       "TF_MRI_Track_Age_at_Scan_2.0        0\n",
       "TF_MRI_Track_Age_at_Scan_Missing    0\n",
       "Basic_Demos_Study_Site_1            0\n",
       "Basic_Demos_Study_Site_2            0\n",
       "Basic_Demos_Study_Site_3            0\n",
       "dtype: int64"
      ]
     },
     "execution_count": 149,
     "metadata": {},
     "output_type": "execute_result"
    }
   ],
   "source": [
    "X.isna().sum()"
   ]
  },
  {
   "cell_type": "code",
   "execution_count": 150,
   "metadata": {},
   "outputs": [],
   "source": [
    "# Split once for multiple y variables\n",
    "X_train, X_test, y1_train, y1_test = train_test_split(\n",
    "    X, y_adhd_outcome, test_size=0.15, random_state=42\n",
    ")"
   ]
  },
  {
   "cell_type": "code",
   "execution_count": 151,
   "metadata": {},
   "outputs": [
    {
     "name": "stdout",
     "output_type": "stream",
     "text": [
      "Accuracy for adhd (classification): 0.8000\n",
      "F1 for adhd (classification): 0.8597\n"
     ]
    }
   ],
   "source": [
    "rf_classifier = RandomForestClassifier(n_estimators=100, random_state=42)\n",
    "gb_classifier = GradientBoostingClassifier(n_estimators=100, random_state=42)\n",
    "\n",
    "# Create an ensemble model using VotingClassifier (stacking)\n",
    "ensemble_model= VotingClassifier(\n",
    "    estimators=[('rf', rf_classifier), ('gb', gb_classifier)],\n",
    "    voting='soft'  # 'hard' for majority class voting\n",
    ")\n",
    "\n",
    "ensemble_model.fit(X_train, y1_train) \n",
    "y_pred_proba= ensemble_model.predict_proba(X_test)\n",
    "y_pred= ensemble_model.predict(X_test)\n",
    "final_feature_names = ensemble_model.feature_names_in_\n",
    "# Default accuracies\n",
    "print(f\"Accuracy for adhd (classification): {accuracy_score(y1_test, y_pred):.4f}\")\n",
    "print(f\"F1 for adhd (classification): {f1_score(y1_test, y_pred):.4f}\")"
   ]
  },
  {
   "cell_type": "code",
   "execution_count": 152,
   "metadata": {},
   "outputs": [],
   "source": [
    "feature_importances = {}\n",
    "for model in ensemble_model.named_estimators_:\n",
    "    clfr= ensemble_model.named_estimators_[model]\n",
    "    importances = clfr.feature_importances_\n",
    "    feature_importances[(model)] = importances    "
   ]
  },
  {
   "cell_type": "code",
   "execution_count": 153,
   "metadata": {},
   "outputs": [
    {
     "name": "stdout",
     "output_type": "stream",
     "text": [
      "SDQ_SDQ_Hyperactivity: 0.3379\n",
      "SDQ_SDQ_Difficulties_Total: 0.0737\n",
      "SDQ_SDQ_Generating_Impact: 0.0674\n",
      "SDQ_SDQ_Externalizing: 0.0599\n",
      "APQ_P_APQ_P_INV: 0.0475\n",
      "APQ_P_APQ_P_PM: 0.0447\n",
      "APQ_P_APQ_P_OPD: 0.0430\n",
      "APQ_P_APQ_P_PP: 0.0369\n",
      "SDQ_SDQ_Internalizing: 0.0309\n",
      "APQ_P_APQ_P_CP: 0.0304\n",
      "APQ_P_APQ_P_ID: 0.0295\n",
      "SDQ_SDQ_Prosocial: 0.0283\n",
      "SDQ_SDQ_Emotional_Problems: 0.0266\n",
      "SDQ_SDQ_Conduct_Problems: 0.0219\n",
      "SDQ_SDQ_Peer_Problems: 0.0201\n",
      "Basic_Demos_Enroll_Year_2016: 0.0198\n",
      "Basic_Demos_Enroll_Year_2018: 0.0139\n",
      "MRI_Track_Scan_Location_3: 0.0107\n",
      "TF_MRI_Track_Age_at_Scan_1.0: 0.0106\n",
      "Basic_Demos_Enroll_Year_2019: 0.0089\n",
      "TF_MRI_Track_Age_at_Scan_2.0: 0.0066\n",
      "TF_MRI_Track_Age_at_Scan_Missing: 0.0063\n",
      "Basic_Demos_Study_Site_1: 0.0062\n",
      "Basic_Demos_Study_Site_3: 0.0061\n",
      "Basic_Demos_Enroll_Year_2015: 0.0050\n",
      "MRI_Track_Scan_Location_2: 0.0049\n",
      "MRI_Track_Scan_Location_4: 0.0018\n",
      "Basic_Demos_Study_Site_2: 0.0005\n",
      "MRI_Track_Scan_Location_0: 0.0001\n",
      "Basic_Demos_Enroll_Year_2020: 0.0000\n"
     ]
    }
   ],
   "source": [
    "feature_names = X_train.columns\n",
    "avg_importance = np.mean(list(feature_importances.values()), axis=0)\n",
    "importance_dict = dict(zip(feature_names, avg_importance))\n",
    "sorted_importance = sorted(importance_dict.items(), key=lambda x: x[1], reverse=True)\n",
    "for feature, importance in sorted_importance:\n",
    "    print(f\"{feature}: {importance:.4f}\")"
   ]
  },
  {
   "cell_type": "code",
   "execution_count": 154,
   "metadata": {},
   "outputs": [
    {
     "data": {
      "text/plain": [
       "Text(0.5, 1.0, 'Actual vs Predicted Distributions')"
      ]
     },
     "execution_count": 154,
     "metadata": {},
     "output_type": "execute_result"
    },
    {
     "data": {
      "image/png": "[encoded data removed]",
      "text/plain": [
       "<Figure size 640x480 with 1 Axes>"
      ]
     },
     "metadata": {},
     "output_type": "display_data"
    }
   ],
   "source": [
    "test_df_adhd = pd.DataFrame(list(zip(y1_test,(y_pred_proba[:,1]))), columns=['actual','predicted'])\n",
    "\n",
    "# Plot the distros and look at spread\n",
    "test_df_adhd.loc[test_df_adhd['actual']==1]['predicted'].hist(alpha=.5, label='ADHD', density=True)\n",
    "test_df_adhd.loc[test_df_adhd['actual']==0]['predicted'].hist(alpha=.5, label='No ADHD', density=True)\n",
    "plt.title('Actual vs Predicted Distributions')\n"
   ]
  },
  {
   "cell_type": "code",
   "execution_count": 155,
   "metadata": {},
   "outputs": [
    {
     "data": {
      "image/png": "[encoded data removed]",
      "text/plain": [
       "<Figure size 800x600 with 1 Axes>"
      ]
     },
     "metadata": {},
     "output_type": "display_data"
    }
   ],
   "source": [
    "\n",
    "precision_vals, recall_vals, thresholds = precision_recall_curve(y1_test, y_pred_proba[:,1])\n",
    "# Compute ROC curve and AUC score\n",
    "\n",
    "fpr, tpr, roc_thresholds = roc_curve(y1_test, y_pred_proba[:, 1])  # Assuming y_pred contains probabilities for class 1\n",
    "auc_score = roc_auc_score(y1_test, y_pred_proba[:, 1])\n",
    "\n",
    "# Plot the ROC curve\n",
    "plt.figure(figsize=(8, 6))\n",
    "plt.plot(fpr, tpr, color='hotpink', label=f'ROC Curve (AUC = {auc_score:.4f})')\n",
    "plt.plot([0, 1], [0, 1], color='gray', linestyle='--') \n",
    "plt.xlabel('False Positive Rate (FPR)')\n",
    "plt.ylabel('True Positive Rate (TPR)')\n",
    "plt.title('ROC Curve')\n",
    "plt.legend()\n",
    "plt.grid()\n",
    "plt.show()\n",
    "\n"
   ]
  },
  {
   "cell_type": "code",
   "execution_count": 156,
   "metadata": {},
   "outputs": [
    {
     "name": "stdout",
     "output_type": "stream",
     "text": [
      "Original accuracies:\n",
      "Accuracy for adhd (classification): 0.8000\n",
      "F1 for adhd (classification): 0.8597\n",
      "Threshold optimized accuracies:\n",
      "Accuracy for adhd (classification): 0.8387\n",
      "F1 for adhd (classification): 0.8826\n",
      "\n",
      "Confusion Matrix:\n",
      "[[36 15]\n",
      " [10 94]]\n"
     ]
    }
   ],
   "source": [
    "# Compute optimal threshold\n",
    "j_scores = tpr - fpr \n",
    "optimal_idx = j_scores.argmax()  \n",
    "optimal_threshold = roc_thresholds[optimal_idx]\n",
    "\n",
    "#Redoing with optimal threshold.\n",
    "y_pred_thresh = (y_pred_proba[:, 1] >= optimal_threshold).astype(int)  # Taking column 1 (positive class probability)\n",
    "print('Original accuracies:')\n",
    "print(f\"Accuracy for adhd (classification): {accuracy_score(y1_test, y_pred):.4f}\")\n",
    "print(f\"F1 for adhd (classification): {f1_score(y1_test, y_pred):.4f}\")\n",
    "print('Threshold optimized accuracies:')\n",
    "print(f\"Accuracy for adhd (classification): {accuracy_score(y1_test, y_pred_thresh):.4f}\")\n",
    "print(f\"F1 for adhd (classification): {f1_score(y1_test, y_pred_thresh):.4f}\")\n",
    "print(\"\")\n",
    "conf_matrix = confusion_matrix(y1_test, y_pred_thresh)\n",
    "print(\"Confusion Matrix:\")\n",
    "print(conf_matrix)"
   ]
  },
  {
   "cell_type": "markdown",
   "metadata": {},
   "source": [
    "### On the validation IDs"
   ]
  },
  {
   "cell_type": "code",
   "execution_count": 157,
   "metadata": {},
   "outputs": [
    {
     "name": "stdout",
     "output_type": "stream",
     "text": [
      "Had to add column: MRI_Track_Scan_Location_0\n",
      "F1 Score on validation set: 0.8340\n",
      "Confusion Matrix:\n",
      "[[ 37  21]\n",
      " [ 20 103]]\n"
     ]
    }
   ],
   "source": [
    "validation_ids = pd.read_csv('/Users/paigegiese/SYG/wids-2025-mupd/data/TRAIN/validation_ids.csv')['participant_id'].tolist()\n",
    "d1 = pd.read_csv('/Users/paigegiese/SYG/wids-2025-mupd/data/TRAIN/TRAIN_CATEGORICAL_METADATA.csv')\n",
    "d1 = d1.loc[d1['participant_id'].isin(validation_ids)].reset_index(drop=True)\n",
    "d2 = pd.read_csv('/Users/paigegiese/SYG/wids-2025-mupd/data/TRAIN/TRAIN_QUANTITATIVE_METADATA.csv')\n",
    "d2 = d2.loc[d2['participant_id'].isin(validation_ids)].reset_index(drop=True)\n",
    "labels = pd.read_csv('/Users/paigegiese/SYG/wids-2025-mupd/data/TRAIN/TRAINING_SOLUTIONS.csv')\n",
    "labels = labels.loc[labels['participant_id'].isin(validation_ids)].reset_index(drop=True)\n",
    "df = d1.merge(d2, on='participant_id').merge(labels, on='participant_id')\n",
    "\n",
    "adhd_df = df.loc[:,adhd_cols]\n",
    "adhd_df = prep(adhd_df)\n",
    "\n",
    "for c in final_feature_names:\n",
    "    if c not in adhd_df.columns.tolist():\n",
    "        adhd_df.at[:,c] = False\n",
    "        print(f'Had to add column: {c}')\n",
    "         \n",
    "\n",
    "X = adhd_df.drop(['Sex_F','ADHD_Outcome'], axis=1)\n",
    "X.set_index('participant_id', inplace=True)\n",
    "X = X.loc[:,final_feature_names.tolist()]        # reorder columns\n",
    "y = adhd_df['ADHD_Outcome'].values\n",
    "\n",
    "y_preds = ensemble_model.predict_proba(X)\n",
    "\n",
    "\n",
    "# Convert probabilities to class labels (default threshold = 0.5)\n",
    "y_pred_thresh = (y_preds[:, 1] >= optimal_threshold).astype(int)  # Taking column 1 (positive class probability)\n",
    "\n",
    "# Compute F1 score\n",
    "f1 = f1_score(y, y_pred_thresh)\n",
    "\n",
    "print(f\"F1 Score on validation set: {f1:.4f}\")\n",
    "conf_matrix = confusion_matrix(y, y_pred_thresh)\n",
    "print(\"Confusion Matrix:\")\n",
    "print(conf_matrix)"
   ]
  },
  {
   "cell_type": "markdown",
   "metadata": {},
   "source": [
    "# Gender Model"
   ]
  },
  {
   "cell_type": "code",
   "execution_count": 15,
   "metadata": {},
   "outputs": [],
   "source": [
    "validation_ids = pd.read_csv('/Users/paigegiese/SYG/wids-2025-mupd/data/TRAIN/validation_ids.csv')['participant_id'].tolist()\n",
    "d1 = pd.read_csv('/Users/paigegiese/SYG/wids-2025-mupd/data/TRAIN/TRAIN_CATEGORICAL_METADATA.csv')\n",
    "d1 = d1.loc[~d1['participant_id'].isin(validation_ids)].reset_index(drop=True)\n",
    "d2 = pd.read_csv('/Users/paigegiese/SYG/wids-2025-mupd/data/TRAIN/TRAIN_QUANTITATIVE_METADATA.csv')\n",
    "d2 = d2.loc[~d2['participant_id'].isin(validation_ids)].reset_index(drop=True)\n",
    "labels = pd.read_csv('/Users/paigegiese/SYG/wids-2025-mupd/data/TRAIN/TRAINING_SOLUTIONS.csv')\n",
    "labels = labels.loc[~labels['participant_id'].isin(validation_ids)].reset_index(drop=True)\n",
    "df = d1.merge(d2, on='participant_id').merge(labels, on='participant_id')\n"
   ]
  },
  {
   "attachments": {},
   "cell_type": "markdown",
   "metadata": {},
   "source": [
    "## Features from EDA"
   ]
  },
  {
   "cell_type": "code",
   "execution_count": 16,
   "metadata": {},
   "outputs": [],
   "source": [
    "## Need to do some oversampling:\n",
    "from imblearn.over_sampling import SMOTE\n",
    "smote = SMOTE(random_state=42)"
   ]
  },
  {
   "cell_type": "code",
   "execution_count": 17,
   "metadata": {},
   "outputs": [],
   "source": [
    "sex_df = df.loc[:,female_cols]"
   ]
  },
  {
   "cell_type": "code",
   "execution_count": 18,
   "metadata": {},
   "outputs": [
    {
     "name": "stdout",
     "output_type": "stream",
     "text": [
      "New x array size: (1348, 41), new y_label mean: 0.5\n"
     ]
    }
   ],
   "source": [
    "sex_df = prep(sex_df)\n",
    "sex_df.set_index('participant_id', inplace=True)\n",
    "X = sex_df.drop(['Sex_F','ADHD_Outcome'], axis=1)\n",
    "y_sex_f = sex_df['Sex_F']\n",
    "X_res, y_res = smote.fit_resample(X, y_sex_f)\n",
    "print(f'New x array size: {X_res.shape}, new y_label mean: {np.mean(y_res)}')\n"
   ]
  },
  {
   "cell_type": "code",
   "execution_count": 19,
   "metadata": {},
   "outputs": [],
   "source": [
    "# # Split once for multiple y variables\n",
    "# X_train, X_test, y1_train, y1_test = train_test_split(\n",
    "#     X_res, y_res, test_size=0.15, random_state=42\n",
    "# )"
   ]
  },
  {
   "cell_type": "code",
   "execution_count": 20,
   "metadata": {},
   "outputs": [
    {
     "name": "stdout",
     "output_type": "stream",
     "text": [
      "Average Accuracy (5-fold): 0.7374 ± 0.0340\n",
      "Average F1 Score (5-fold): 0.7191 ± 0.0353\n"
     ]
    }
   ],
   "source": [
    "rf_classifier = RandomForestClassifier(n_estimators=100, random_state=42)\n",
    "gb_classifier = GradientBoostingClassifier(n_estimators=100, random_state=42)\n",
    "\n",
    "# Create an ensemble model using VotingClassifier (stacking)\n",
    "ensemble_model= VotingClassifier(\n",
    "    estimators=[('rf', rf_classifier), ('gb', gb_classifier)],\n",
    "    voting='soft'  # 'hard' for majority class voting\n",
    ")\n",
    "\n",
    "\n",
    "kf = StratifiedKFold(n_splits=5, shuffle=True, random_state=42)\n",
    "\n",
    "\n",
    "accuracy_scores = []\n",
    "f1_scores = []\n",
    "\n",
    "for train_index, test_index in kf.split(X_res, y_res):  \n",
    "    X_train, X_test = X_res.iloc[train_index], X_res.iloc[test_index]\n",
    "    y_train, y_test = y_res.iloc[train_index], y_res.iloc[test_index]\n",
    "\n",
    "    # Train the model\n",
    "    ensemble_model.fit(X_train, y_train)\n",
    "\n",
    "    # Predict\n",
    "    y_pred = ensemble_model.predict(X_test)\n",
    "\n",
    "    # Evaluate\n",
    "    acc = accuracy_score(y_test, y_pred)\n",
    "    f1 = f1_score(y_test, y_pred)\n",
    "\n",
    "    accuracy_scores.append(acc)\n",
    "    f1_scores.append(f1)\n",
    "\n",
    "# Print final results\n",
    "print(f\"Average Accuracy (5-fold): {np.mean(accuracy_scores):.4f} ± {np.std(accuracy_scores):.4f}\")\n",
    "print(f\"Average F1 Score (5-fold): {np.mean(f1_scores):.4f} ± {np.std(f1_scores):.4f}\")\n",
    "\n",
    "# Get feature names from trained model\n",
    "ensemble_model.fit(X_res, y_res)  # Final training on full dataset\n",
    "final_feature_names = ensemble_model.feature_names_in_\n",
    "\n"
   ]
  },
  {
   "cell_type": "code",
   "execution_count": 21,
   "metadata": {},
   "outputs": [],
   "source": [
    "feature_importances = {}\n",
    "for model in ensemble_model.named_estimators_:\n",
    "    clfr= ensemble_model.named_estimators_[model]\n",
    "    importances = clfr.feature_importances_\n",
    "    feature_importances[(model)] = importances\n",
    "\n",
    " \n",
    "    "
   ]
  },
  {
   "cell_type": "code",
   "execution_count": 22,
   "metadata": {},
   "outputs": [
    {
     "name": "stdout",
     "output_type": "stream",
     "text": [
      "APQ_P_APQ_P_INV: 0.0633\n",
      "EHQ_EHQ_Total: 0.0621\n",
      "SDQ_SDQ_Hyperactivity: 0.0587\n",
      "Basic_Demos_Study_Site_3: 0.0536\n",
      "APQ_P_APQ_P_PM: 0.0480\n",
      "APQ_P_APQ_P_OPD: 0.0474\n",
      "Barratt_Barratt_P1_Edu_18: 0.0451\n",
      "APQ_P_APQ_P_ID: 0.0451\n",
      "SDQ_SDQ_Emotional_Problems: 0.0448\n",
      "SDQ_SDQ_Prosocial: 0.0360\n",
      "Basic_Demos_Study_Site_1: 0.0355\n",
      "SDQ_SDQ_Externalizing: 0.0335\n",
      "TF_MRI_Track_Age_at_Scan_Missing: 0.0319\n",
      "SDQ_SDQ_Internalizing: 0.0315\n",
      "SDQ_SDQ_Difficulties_Total: 0.0314\n",
      "APQ_P_APQ_P_PP: 0.0285\n",
      "Barratt_Barratt_P1_Edu_21: 0.0271\n",
      "SDQ_SDQ_Generating_Impact: 0.0271\n",
      "TF_MRI_Track_Age_at_Scan_1.0: 0.0256\n",
      "ColorVision_CV_Score: 0.0228\n",
      "APQ_P_APQ_P_CP: 0.0203\n",
      "MRI_Track_Scan_Location_2: 0.0196\n",
      "SDQ_SDQ_Peer_Problems: 0.0180\n",
      "SDQ_SDQ_Conduct_Problems: 0.0179\n",
      "MRI_Track_Scan_Location_3: 0.0165\n",
      "TF_MRI_Track_Age_at_Scan_2.0: 0.0150\n",
      "Barratt_Barratt_P1_Edu_15: 0.0147\n",
      "Barratt_Barratt_P2_Edu_0: 0.0144\n",
      "Barratt_Barratt_P2_Edu_18: 0.0112\n",
      "Barratt_Barratt_P2_Edu_21: 0.0090\n",
      "Basic_Demos_Enroll_Year_2018: 0.0089\n",
      "Basic_Demos_Enroll_Year_2016: 0.0086\n",
      "Basic_Demos_Enroll_Year_2019: 0.0075\n",
      "Barratt_Barratt_P2_Edu_12: 0.0051\n",
      "Barratt_Barratt_P2_Edu_15: 0.0047\n",
      "MRI_Track_Scan_Location_4: 0.0038\n",
      "Barratt_Barratt_P1_Edu_12: 0.0029\n",
      "Basic_Demos_Enroll_Year_2015: 0.0016\n",
      "Basic_Demos_Enroll_Year_2020: 0.0006\n",
      "Basic_Demos_Study_Site_2: 0.0004\n",
      "MRI_Track_Scan_Location_0: 0.0002\n"
     ]
    }
   ],
   "source": [
    "feature_names = X_train.columns\n",
    "avg_importance = np.mean(list(feature_importances.values()), axis=0)\n",
    "importance_dict = dict(zip(feature_names, avg_importance))\n",
    "sorted_importance = sorted(importance_dict.items(), key=lambda x: x[1], reverse=True)\n",
    "for feature, importance in sorted_importance:\n",
    "    print(f\"{feature}: {importance:.4f}\")"
   ]
  },
  {
   "cell_type": "code",
   "execution_count": null,
   "metadata": {},
   "outputs": [],
   "source": []
  },
  {
   "cell_type": "markdown",
   "metadata": {},
   "source": [
    "## On the validation IDs"
   ]
  },
  {
   "cell_type": "code",
   "execution_count": 24,
   "metadata": {},
   "outputs": [
    {
     "name": "stdout",
     "output_type": "stream",
     "text": [
      "Had to add column: MRI_Track_Scan_Location_0\n",
      "F1 Score on validation set: 0.3789\n",
      "Confusion Matrix:\n",
      "[[104  19]\n",
      " [ 40  18]]\n"
     ]
    }
   ],
   "source": [
    "validation_ids = pd.read_csv('/Users/paigegiese/SYG/wids-2025-mupd/data/TRAIN/validation_ids.csv')['participant_id'].tolist()\n",
    "d1 = pd.read_csv('/Users/paigegiese/SYG/wids-2025-mupd/data/TRAIN/TRAIN_CATEGORICAL_METADATA.csv')\n",
    "d1 = d1.loc[d1['participant_id'].isin(validation_ids)].reset_index(drop=True)\n",
    "d2 = pd.read_csv('/Users/paigegiese/SYG/wids-2025-mupd/data/TRAIN/TRAIN_QUANTITATIVE_METADATA.csv')\n",
    "d2 = d2.loc[d2['participant_id'].isin(validation_ids)].reset_index(drop=True)\n",
    "labels = pd.read_csv('/Users/paigegiese/SYG/wids-2025-mupd/data/TRAIN/TRAINING_SOLUTIONS.csv')\n",
    "labels = labels.loc[labels['participant_id'].isin(validation_ids)].reset_index(drop=True)\n",
    "df = d1.merge(d2, on='participant_id').merge(labels, on='participant_id')\n",
    "\n",
    "sex_df = df.loc[:,female_cols]\n",
    "sex_df = prep(sex_df)\n",
    "\n",
    "for c in final_feature_names:\n",
    "    if c not in sex_df.columns.tolist():\n",
    "        sex_df.at[:,c] = False\n",
    "        print(f'Had to add column: {c}')\n",
    "\n",
    "sex_df.set_index('participant_id', inplace=True)\n",
    "X = sex_df.drop(['Sex_F','ADHD_Outcome'], axis=1)\n",
    "y_sex_f = sex_df['Sex_F'].values       \n",
    "X = X.loc[:,final_feature_names.tolist()]        # reorder columns\n",
    "\n",
    "y_preds = ensemble_model.predict_proba(X)\n",
    "\n",
    "# Convert probabilities to class labels (default threshold = 0.5)\n",
    "y_pred_thresh = (y_preds[:, 1] >= .5).astype(int)  # Taking column 1 (positive class probability)\n",
    "\n",
    "# Compute F1 score\n",
    "f1 = f1_score(y_sex_f, y_pred_thresh)\n",
    "\n",
    "print(f\"F1 Score on validation set: {f1:.4f}\")\n",
    "conf_matrix = confusion_matrix(y_sex_f, y_pred_thresh)\n",
    "print(\"Confusion Matrix:\")\n",
    "print(conf_matrix)"
   ]
  },
  {
   "cell_type": "code",
   "execution_count": 25,
   "metadata": {},
   "outputs": [
    {
     "data": {
      "image/png": "[encoded data removed]",
      "text/plain": [
       "<Figure size 640x480 with 1 Axes>"
      ]
     },
     "metadata": {},
     "output_type": "display_data"
    }
   ],
   "source": [
    "test_df_sex = pd.DataFrame(list(zip(y_sex_f,(y_preds[:,1]))), columns=['actual','predicted'])\n",
    "\n",
    "# Plot the distros and look at spread\n",
    "test_df_sex.loc[test_df_sex['actual']==1]['predicted'].hist(alpha=.5, label='Sex_F 1', density=True)\n",
    "test_df_sex.loc[test_df_sex['actual']==0]['predicted'].hist(alpha=.5, label='Sex_F 0', density=True)\n",
    "plt.title('Actual vs Predicted Distributions')\n",
    "plt.legend();\n"
   ]
  },
  {
   "cell_type": "code",
   "execution_count": 26,
   "metadata": {},
   "outputs": [
    {
     "data": {
      "image/png": "[encoded data removed]",
      "text/plain": [
       "<Figure size 800x600 with 1 Axes>"
      ]
     },
     "metadata": {},
     "output_type": "display_data"
    }
   ],
   "source": [
    "\n",
    "precision_vals, recall_vals, thresholds = precision_recall_curve(y_sex_f, y_preds[:,1])\n",
    "# Compute ROC curve and AUC score\n",
    "fpr, tpr, roc_thresholds = roc_curve(y_sex_f, y_preds[:, 1])  # Assuming y_pred contains probabilities for class 1\n",
    "auc_score = roc_auc_score(y_sex_f, y_preds[:, 1])\n",
    "\n",
    "# Plot the ROC curve\n",
    "plt.figure(figsize=(8, 6))\n",
    "plt.plot(fpr, tpr, color='hotpink', label=f'ROC Curve (AUC = {auc_score:.4f})')\n",
    "plt.plot([0, 1], [0, 1], color='gray', linestyle='--') \n",
    "plt.xlabel('False Positive Rate (FPR)')\n",
    "plt.ylabel('True Positive Rate (TPR)')\n",
    "plt.title('ROC Curve')\n",
    "plt.legend()\n",
    "plt.grid()\n",
    "plt.show()\n",
    "\n"
   ]
  },
  {
   "cell_type": "code",
   "execution_count": 75,
   "metadata": {},
   "outputs": [
    {
     "name": "stdout",
     "output_type": "stream",
     "text": [
      "Original accuracies:\n"
     ]
    },
    {
     "ename": "ValueError",
     "evalue": "Found input variables with inconsistent numbers of samples: [203, 269]",
     "output_type": "error",
     "traceback": [
      "\u001b[0;31m---------------------------------------------------------------------------\u001b[0m",
      "\u001b[0;31mValueError\u001b[0m                                Traceback (most recent call last)",
      "Cell \u001b[0;32mIn[75], line 9\u001b[0m\n\u001b[1;32m      7\u001b[0m y_pred_thresh \u001b[39m=\u001b[39m (y_pred_proba[:, \u001b[39m1\u001b[39m] \u001b[39m>\u001b[39m\u001b[39m=\u001b[39m optimal_threshold)\u001b[39m.\u001b[39mastype(\u001b[39mint\u001b[39m)  \u001b[39m# Taking column 1 (positive class probability)\u001b[39;00m\n\u001b[1;32m      8\u001b[0m \u001b[39mprint\u001b[39m(\u001b[39m'\u001b[39m\u001b[39mOriginal accuracies:\u001b[39m\u001b[39m'\u001b[39m)\n\u001b[0;32m----> 9\u001b[0m \u001b[39mprint\u001b[39m(\u001b[39mf\u001b[39m\u001b[39m\"\u001b[39m\u001b[39mAccuracy for sex (classification): \u001b[39m\u001b[39m{\u001b[39;00maccuracy_score(y1_test,\u001b[39m \u001b[39;49my_pred)\u001b[39m:\u001b[39;00m\u001b[39m.4f\u001b[39m\u001b[39m}\u001b[39;00m\u001b[39m\"\u001b[39m)\n\u001b[1;32m     10\u001b[0m \u001b[39mprint\u001b[39m(\u001b[39mf\u001b[39m\u001b[39m\"\u001b[39m\u001b[39mF1 for sex (classification): \u001b[39m\u001b[39m{\u001b[39;00mf1_score(y1_test,\u001b[39m \u001b[39my_pred)\u001b[39m:\u001b[39;00m\u001b[39m.4f\u001b[39m\u001b[39m}\u001b[39;00m\u001b[39m\"\u001b[39m)\n\u001b[1;32m     11\u001b[0m \u001b[39mprint\u001b[39m(\u001b[39m'\u001b[39m\u001b[39mThreshold optimized accuracies:\u001b[39m\u001b[39m'\u001b[39m)\n",
      "File \u001b[0;32m~/SYG/wids-2025-mupd/.venv/lib/python3.11/site-packages/sklearn/utils/_param_validation.py:213\u001b[0m, in \u001b[0;36mvalidate_params.<locals>.decorator.<locals>.wrapper\u001b[0;34m(*args, **kwargs)\u001b[0m\n\u001b[1;32m    207\u001b[0m \u001b[39mtry\u001b[39;00m:\n\u001b[1;32m    208\u001b[0m     \u001b[39mwith\u001b[39;00m config_context(\n\u001b[1;32m    209\u001b[0m         skip_parameter_validation\u001b[39m=\u001b[39m(\n\u001b[1;32m    210\u001b[0m             prefer_skip_nested_validation \u001b[39mor\u001b[39;00m global_skip_validation\n\u001b[1;32m    211\u001b[0m         )\n\u001b[1;32m    212\u001b[0m     ):\n\u001b[0;32m--> 213\u001b[0m         \u001b[39mreturn\u001b[39;00m func(\u001b[39m*\u001b[39;49margs, \u001b[39m*\u001b[39;49m\u001b[39m*\u001b[39;49mkwargs)\n\u001b[1;32m    214\u001b[0m \u001b[39mexcept\u001b[39;00m InvalidParameterError \u001b[39mas\u001b[39;00m e:\n\u001b[1;32m    215\u001b[0m     \u001b[39m# When the function is just a wrapper around an estimator, we allow\u001b[39;00m\n\u001b[1;32m    216\u001b[0m     \u001b[39m# the function to delegate validation to the estimator, but we replace\u001b[39;00m\n\u001b[1;32m    217\u001b[0m     \u001b[39m# the name of the estimator by the name of the function in the error\u001b[39;00m\n\u001b[1;32m    218\u001b[0m     \u001b[39m# message to avoid confusion.\u001b[39;00m\n\u001b[1;32m    219\u001b[0m     msg \u001b[39m=\u001b[39m re\u001b[39m.\u001b[39msub(\n\u001b[1;32m    220\u001b[0m         \u001b[39mr\u001b[39m\u001b[39m\"\u001b[39m\u001b[39mparameter of \u001b[39m\u001b[39m\\\u001b[39m\u001b[39mw+ must be\u001b[39m\u001b[39m\"\u001b[39m,\n\u001b[1;32m    221\u001b[0m         \u001b[39mf\u001b[39m\u001b[39m\"\u001b[39m\u001b[39mparameter of \u001b[39m\u001b[39m{\u001b[39;00mfunc\u001b[39m.\u001b[39m\u001b[39m__qualname__\u001b[39m\u001b[39m}\u001b[39;00m\u001b[39m must be\u001b[39m\u001b[39m\"\u001b[39m,\n\u001b[1;32m    222\u001b[0m         \u001b[39mstr\u001b[39m(e),\n\u001b[1;32m    223\u001b[0m     )\n",
      "File \u001b[0;32m~/SYG/wids-2025-mupd/.venv/lib/python3.11/site-packages/sklearn/metrics/_classification.py:231\u001b[0m, in \u001b[0;36maccuracy_score\u001b[0;34m(y_true, y_pred, normalize, sample_weight)\u001b[0m\n\u001b[1;32m    229\u001b[0m xp, _, device \u001b[39m=\u001b[39m get_namespace_and_device(y_true, y_pred, sample_weight)\n\u001b[1;32m    230\u001b[0m \u001b[39m# Compute accuracy for each possible representation\u001b[39;00m\n\u001b[0;32m--> 231\u001b[0m y_type, y_true, y_pred \u001b[39m=\u001b[39m _check_targets(y_true, y_pred)\n\u001b[1;32m    232\u001b[0m check_consistent_length(y_true, y_pred, sample_weight)\n\u001b[1;32m    233\u001b[0m \u001b[39mif\u001b[39;00m y_type\u001b[39m.\u001b[39mstartswith(\u001b[39m\"\u001b[39m\u001b[39mmultilabel\u001b[39m\u001b[39m\"\u001b[39m):\n",
      "File \u001b[0;32m~/SYG/wids-2025-mupd/.venv/lib/python3.11/site-packages/sklearn/metrics/_classification.py:103\u001b[0m, in \u001b[0;36m_check_targets\u001b[0;34m(y_true, y_pred)\u001b[0m\n\u001b[1;32m     76\u001b[0m \u001b[39m\u001b[39m\u001b[39m\"\"\"Check that y_true and y_pred belong to the same classification task.\u001b[39;00m\n\u001b[1;32m     77\u001b[0m \n\u001b[1;32m     78\u001b[0m \u001b[39mThis converts multiclass or binary types to a common shape, and raises a\u001b[39;00m\n\u001b[0;32m   (...)\u001b[0m\n\u001b[1;32m    100\u001b[0m \u001b[39my_pred : array or indicator matrix\u001b[39;00m\n\u001b[1;32m    101\u001b[0m \u001b[39m\"\"\"\u001b[39;00m\n\u001b[1;32m    102\u001b[0m xp, _ \u001b[39m=\u001b[39m get_namespace(y_true, y_pred)\n\u001b[0;32m--> 103\u001b[0m check_consistent_length(y_true, y_pred)\n\u001b[1;32m    104\u001b[0m type_true \u001b[39m=\u001b[39m type_of_target(y_true, input_name\u001b[39m=\u001b[39m\u001b[39m\"\u001b[39m\u001b[39my_true\u001b[39m\u001b[39m\"\u001b[39m)\n\u001b[1;32m    105\u001b[0m type_pred \u001b[39m=\u001b[39m type_of_target(y_pred, input_name\u001b[39m=\u001b[39m\u001b[39m\"\u001b[39m\u001b[39my_pred\u001b[39m\u001b[39m\"\u001b[39m)\n",
      "File \u001b[0;32m~/SYG/wids-2025-mupd/.venv/lib/python3.11/site-packages/sklearn/utils/validation.py:457\u001b[0m, in \u001b[0;36mcheck_consistent_length\u001b[0;34m(*arrays)\u001b[0m\n\u001b[1;32m    455\u001b[0m uniques \u001b[39m=\u001b[39m np\u001b[39m.\u001b[39munique(lengths)\n\u001b[1;32m    456\u001b[0m \u001b[39mif\u001b[39;00m \u001b[39mlen\u001b[39m(uniques) \u001b[39m>\u001b[39m \u001b[39m1\u001b[39m:\n\u001b[0;32m--> 457\u001b[0m     \u001b[39mraise\u001b[39;00m \u001b[39mValueError\u001b[39;00m(\n\u001b[1;32m    458\u001b[0m         \u001b[39m\"\u001b[39m\u001b[39mFound input variables with inconsistent numbers of samples: \u001b[39m\u001b[39m%r\u001b[39;00m\u001b[39m\"\u001b[39m\n\u001b[1;32m    459\u001b[0m         \u001b[39m%\u001b[39m [\u001b[39mint\u001b[39m(l) \u001b[39mfor\u001b[39;00m l \u001b[39min\u001b[39;00m lengths]\n\u001b[1;32m    460\u001b[0m     )\n",
      "\u001b[0;31mValueError\u001b[0m: Found input variables with inconsistent numbers of samples: [203, 269]"
     ]
    }
   ],
   "source": [
    "# Compute optimal threshold\n",
    "j_scores = tpr - fpr \n",
    "optimal_idx = j_scores.argmax()  \n",
    "optimal_threshold = .4 #roc_thresholds[optimal_idx]\n",
    "\n",
    "#Redoing with optimal threshold.\n",
    "y_pred_thresh = (y_pred_proba[:, 1] >= optimal_threshold).astype(int)  # Taking column 1 (positive class probability)\n",
    "print('Original accuracies:')\n",
    "print(f\"Accuracy for sex (classification): {accuracy_score(y1_test, y_pred):.4f}\")\n",
    "print(f\"F1 for sex (classification): {f1_score(y1_test, y_pred):.4f}\")\n",
    "print('Threshold optimized accuracies:')\n",
    "print(f\"Accuracy for sex (classification): {accuracy_score(y1_test, y_pred_thresh):.4f}\")\n",
    "print(f\"F1 for sex (classification): {f1_score(y1_test, y_pred_thresh):.4f}\")\n",
    "print(\"\")\n",
    "conf_matrix = confusion_matrix(y1_test, y_pred_thresh)\n",
    "print(\"Confusion Matrix:\")\n",
    "print(conf_matrix)"
   ]
  },
  {
   "cell_type": "code",
   "execution_count": null,
   "metadata": {},
   "outputs": [],
   "source": [
    "test_df_sex = pd.DataFrame(list(zip(y1_test,(y_pred_proba[:,1]))), columns=['actual','predicted'])\n",
    "\n",
    "# Plot the distros and look at spread\n",
    "test_df_sex.loc[test_df_sex['actual']==1]['predicted'].hist(alpha=.5, label='Sex_F 1', density=True)\n",
    "test_df_sex.loc[test_df_sex['actual']==0]['predicted'].hist(alpha=.5, label='Sex_F 0', density=True)\n",
    "plt.title('Actual vs Predicted Distributions')\n",
    "plt.legend();"
   ]
  }
 ],
 "metadata": {
  "kernelspec": {
   "display_name": "caleb",
   "language": "python",
   "name": "pipenv-python3.12"
  },
  "language_info": {
   "codemirror_mode": {
    "name": "ipython",
    "version": 3
   },
   "file_extension": ".py",
   "mimetype": "text/x-python",
   "name": "python",
   "nbconvert_exporter": "python",
   "pygments_lexer": "ipython3",
   "version": "3.11.11"
  },
  "orig_nbformat": 4
 },
 "nbformat": 4,
 "nbformat_minor": 2
}
