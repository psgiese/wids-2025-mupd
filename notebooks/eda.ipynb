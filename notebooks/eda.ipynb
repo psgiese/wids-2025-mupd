{
 "cells": [
  {
   "cell_type": "code",
   "execution_count": 25,
   "metadata": {},
   "outputs": [],
   "source": [
    "import pandas as pd\n",
    "import numpy as np\n",
    "import os\n",
    "from pathlib import Path\n",
    "\n",
    "def convert_excel_to_csv(folder_path):\n",
    "    \"\"\"\n",
    "    Convert all Excel files in a folder to CSV and show their previews.\n",
    "    \n",
    "    Args:\n",
    "        folder_path (str): Path to the folder containing Excel files\n",
    "    \"\"\"\n",
    "    # Convert folder path to Path object\n",
    "    folder = Path(folder_path)\n",
    "    \n",
    "    # Loop through all files in the folder\n",
    "    for file in folder.glob('*.xlsx'):\n",
    "        try:\n",
    "            # Read the Excel file\n",
    "            df = pd.read_excel(file)\n",
    "            \n",
    "            # Create CSV filename (same name, different extension)\n",
    "            csv_path = file.with_suffix('.csv')\n",
    "            \n",
    "            # Save as CSV\n",
    "            df.to_csv(csv_path, index=False)\n",
    "            \n",
    "            # Print information about the conversion\n",
    "            print(f\"\\nConverted: {file.name} → {csv_path.name}\")\n",
    "            print(f\"Shape: {df.shape}\")\n",
    "            print(\"\\nPreview:\")\n",
    "            print(df.head())\n",
    "            print(\"\\n\" + \"=\"*50)\n",
    "            \n",
    "        except Exception as e:\n",
    "            print(f\"Error processing {file.name}: {str(e)}\")\n",
    "\n",
    "# Example usage:\n",
    "# convert_excel_to_csv('data')"
   ]
  },
  {
   "cell_type": "code",
   "execution_count": 2,
   "metadata": {},
   "outputs": [
    {
     "name": "stdout",
     "output_type": "stream",
     "text": [
      "\n",
      "Converted: TRAIN_QUANTITATIVE_METADATA.xlsx → TRAIN_QUANTITATIVE_METADATA.csv\n",
      "Shape: (1213, 19)\n",
      "\n",
      "Preview:\n",
      "  participant_id  EHQ_EHQ_Total  ColorVision_CV_Score  APQ_P_APQ_P_CP  \\\n",
      "0   UmrK0vMLopoR          40.00                    13               3   \n",
      "1   CPaeQkhcjg7d         -94.47                    14               3   \n",
      "2   Nb4EetVPm3gs         -46.67                    14               4   \n",
      "3   p4vPhVu91o4b         -26.68                    10               5   \n",
      "4   M09PXs7arQ5E           0.00                    14               5   \n",
      "\n",
      "   APQ_P_APQ_P_ID  APQ_P_APQ_P_INV  APQ_P_APQ_P_OPD  APQ_P_APQ_P_PM  \\\n",
      "0              10               47               13              11   \n",
      "1              13               34               18              23   \n",
      "2              10               35               16              10   \n",
      "3              12               39               19              16   \n",
      "4              15               40               20              24   \n",
      "\n",
      "   APQ_P_APQ_P_PP  SDQ_SDQ_Conduct_Problems  SDQ_SDQ_Difficulties_Total  \\\n",
      "0              28                         0                           6   \n",
      "1              30                         0                          18   \n",
      "2              29                         1                          14   \n",
      "3              28                         6                          24   \n",
      "4              28                         1                          18   \n",
      "\n",
      "   SDQ_SDQ_Emotional_Problems  SDQ_SDQ_Externalizing  \\\n",
      "0                           1                      5   \n",
      "1                           6                      8   \n",
      "2                           2                      8   \n",
      "3                           4                     16   \n",
      "4                           4                     11   \n",
      "\n",
      "   SDQ_SDQ_Generating_Impact  SDQ_SDQ_Hyperactivity  SDQ_SDQ_Internalizing  \\\n",
      "0                          0                      5                      1   \n",
      "1                          7                      8                     10   \n",
      "2                          5                      7                      6   \n",
      "3                          9                     10                      8   \n",
      "4                          4                     10                      7   \n",
      "\n",
      "   SDQ_SDQ_Peer_Problems  SDQ_SDQ_Prosocial  MRI_Track_Age_at_Scan  \n",
      "0                      0                 10                    NaN  \n",
      "1                      4                  5                    NaN  \n",
      "2                      4                  9               8.239904  \n",
      "3                      4                  6                    NaN  \n",
      "4                      3                  9               8.940679  \n",
      "\n",
      "==================================================\n",
      "\n",
      "Converted: TRAINING_SOLUTIONS.xlsx → TRAINING_SOLUTIONS.csv\n",
      "Shape: (1213, 3)\n",
      "\n",
      "Preview:\n",
      "  participant_id  ADHD_Outcome  Sex_F\n",
      "0   UmrK0vMLopoR             1      1\n",
      "1   CPaeQkhcjg7d             1      0\n",
      "2   Nb4EetVPm3gs             1      0\n",
      "3   p4vPhVu91o4b             1      1\n",
      "4   M09PXs7arQ5E             1      1\n",
      "\n",
      "==================================================\n",
      "\n",
      "Converted: TRAIN_CATEGORICAL_METADATA.xlsx → TRAIN_CATEGORICAL_METADATA.csv\n",
      "Shape: (1213, 10)\n",
      "\n",
      "Preview:\n",
      "  participant_id  Basic_Demos_Enroll_Year  Basic_Demos_Study_Site  \\\n",
      "0   UmrK0vMLopoR                     2016                       1   \n",
      "1   CPaeQkhcjg7d                     2019                       3   \n",
      "2   Nb4EetVPm3gs                     2016                       1   \n",
      "3   p4vPhVu91o4b                     2018                       3   \n",
      "4   M09PXs7arQ5E                     2019                       3   \n",
      "\n",
      "   PreInt_Demos_Fam_Child_Ethnicity  PreInt_Demos_Fam_Child_Race  \\\n",
      "0                               0.0                            0   \n",
      "1                               1.0                            2   \n",
      "2                               1.0                            8   \n",
      "3                               0.0                            8   \n",
      "4                               0.0                            1   \n",
      "\n",
      "   MRI_Track_Scan_Location  Barratt_Barratt_P1_Edu  Barratt_Barratt_P1_Occ  \\\n",
      "0                        1                      21                      45   \n",
      "1                        3                      15                      15   \n",
      "2                        1                      18                      40   \n",
      "3                        3                      15                      30   \n",
      "4                        3                      15                      20   \n",
      "\n",
      "   Barratt_Barratt_P2_Edu  Barratt_Barratt_P2_Occ  \n",
      "0                      21                      45  \n",
      "1                       0                       0  \n",
      "2                       0                       0  \n",
      "3                      18                       0  \n",
      "4                       0                       0  \n",
      "\n",
      "==================================================\n"
     ]
    }
   ],
   "source": [
    "convert_excel_to_csv('/Users/paigegiese/SYG/wids-2025-mupd/data/TRAIN/')"
   ]
  },
  {
   "cell_type": "code",
   "execution_count": 6,
   "metadata": {},
   "outputs": [
    {
     "data": {
      "text/plain": [
       "Index(['participant_id', '0throw_1thcolumn'], dtype='object')"
      ]
     },
     "execution_count": 6,
     "metadata": {},
     "output_type": "execute_result"
    }
   ],
   "source": [
    "mri  = pd.read_csv('/Users/paigegiese/SYG/wids-2025-mupd/data/TRAIN/TRAIN_FUNCTIONAL_CONNECTOME_MATRICES.csv')\n",
    "\n",
    "mri.columns[:2]"
   ]
  },
  {
   "cell_type": "code",
   "execution_count": 7,
   "metadata": {},
   "outputs": [
    {
     "data": {
      "text/plain": [
       "Index(['196throw_198thcolumn', '196throw_199thcolumn', '197throw_198thcolumn',\n",
       "       '197throw_199thcolumn', '198throw_199thcolumn'],\n",
       "      dtype='object')"
      ]
     },
     "execution_count": 7,
     "metadata": {},
     "output_type": "execute_result"
    }
   ],
   "source": [
    "mri.columns[-5:]"
   ]
  },
  {
   "cell_type": "code",
   "execution_count": 19,
   "metadata": {},
   "outputs": [],
   "source": [
    "df = pd.read_csv('/Users/paigegiese/SYG/wids-2025-mupd/data/TRAIN/TRAIN_FUNCTIONAL_CONNECTOME_MATRICES.csv')\n",
    "# Extract numerical indices from column names\n",
    "df = df.iloc[:,1:]\n",
    "# df.columns = [int(col.split('_')[1].replace('thcolumn', '')) for col in df.columns]\n",
    "# df.index = [int(idx.split('_')[0].replace('throw', '')) for idx in df.index]\n"
   ]
  },
  {
   "cell_type": "code",
   "execution_count": 35,
   "metadata": {},
   "outputs": [],
   "source": [
    "# # Extract numerical indices from column names\n",
    "# region_pairs = [\n",
    "#     (int(col.split('throw_')[0]), int(col.split('throw_')[1].replace('thcolumn', '')))\n",
    "#     for col in df.columns\n",
    "# ]\n",
    "\n",
    "# # Convert to a NumPy array\n",
    "# region_pairs = np.array(region_pairs)\n",
    "# Parse the (row, column) indices from column names\n",
    "region_pairs = []\n",
    "for col in df.columns:\n",
    "    try:\n",
    "        i, j = col.split('throw_')\n",
    "        i = int(i)  # Convert \"0throw\" → 0\n",
    "        j = int(j.replace('thcolumn', ''))  # Convert \"2thcolumn\" → 2\n",
    "        region_pairs.append((i, j))\n",
    "    except ValueError:\n",
    "        print(f\"Skipping malformed column: {col}\")\n",
    "\n",
    "region_pairs = np.array(region_pairs)\n",
    "\n",
    "# Check if the number of extracted pairs matches the dataframe's width\n",
    "assert len(region_pairs) == df.shape[1]\n"
   ]
  },
  {
   "cell_type": "code",
   "execution_count": 40,
   "metadata": {},
   "outputs": [
    {
     "name": "stdout",
     "output_type": "stream",
     "text": [
      "Max column index: 199\n"
     ]
    }
   ],
   "source": [
    "num_regions = max([int(col.split('_')[1].replace('thcolumn', '')) for col in df.columns])\n",
    "print(f\"Max column index: {num_regions}\")  # Should print 199\n"
   ]
  },
  {
   "cell_type": "code",
   "execution_count": 42,
   "metadata": {},
   "outputs": [],
   "source": [
    "def reshape_to_matrix(patient_data):\n",
    "    matrix = np.zeros((199, 199))  # Initialize 199x199 matrix\n",
    "    \n",
    "    for idx, (i, j) in enumerate(region_pairs):\n",
    "        matrix[i, j - 1] = patient_data[idx]  # Subtract 1 from j\n",
    "\n",
    "    return matrix\n"
   ]
  },
  {
   "cell_type": "code",
   "execution_count": 44,
   "metadata": {},
   "outputs": [
    {
     "name": "stderr",
     "output_type": "stream",
     "text": [
      "/var/folders/9v/6bsrztp11777s06bs8q25y2h0000gn/T/ipykernel_18450/1768268947.py:5: FutureWarning: Series.__getitem__ treating keys as positions is deprecated. In a future version, integer keys will always be treated as labels (consistent with DataFrame behavior). To access a value by position, use `ser.iloc[pos]`\n",
      "  matrix[i, j - 1] = patient_data[idx]  # Subtract 1 from j\n"
     ]
    }
   ],
   "source": [
    "connectomes = np.array([reshape_to_matrix(row) for _, row in df.head(3).iterrows()])"
   ]
  },
  {
   "cell_type": "code",
   "execution_count": 45,
   "metadata": {},
   "outputs": [
    {
     "name": "stdout",
     "output_type": "stream",
     "text": [
      "(3, 199, 199)\n"
     ]
    }
   ],
   "source": [
    "print(connectomes.shape)"
   ]
  },
  {
   "cell_type": "code",
   "execution_count": 56,
   "metadata": {},
   "outputs": [
    {
     "data": {
      "text/plain": [
       "array([ 0.00000000e+00, -7.03962674e-02,  2.33599602e-01,  8.24384655e-02,\n",
       "       -1.21212857e-02, -2.22867124e-03, -7.17197738e-02,  3.14835852e-02,\n",
       "       -3.43224186e-02, -1.86117313e-02,  8.17194202e-04,  2.74316298e-02,\n",
       "       -1.35483243e-02,  4.86015085e-02,  3.54641265e-02,  7.35107965e-03,\n",
       "        3.71000308e-02,  1.88224778e-02,  2.09377452e-02,  1.81010386e-02,\n",
       "        5.60784924e-03, -1.35455250e-02,  1.80556399e-02, -1.38761827e-02,\n",
       "       -4.86942266e-02, -3.10935987e-02,  5.38412398e-03,  4.05557224e-03,\n",
       "        1.11012385e-01,  2.28846471e-02, -2.31421715e-02,  2.86183433e-02,\n",
       "        2.15776294e-02, -3.03614288e-02, -2.62225143e-03,  1.39007237e-02,\n",
       "        1.87049231e-02,  2.09891975e-02, -5.42201101e-02,  1.29660755e-02,\n",
       "       -4.22778223e-02, -3.30250073e-02,  1.91056569e-02,  7.31147739e-02,\n",
       "       -9.65946680e-02, -8.62157949e-03, -4.91365228e-02,  7.13588102e-02,\n",
       "       -2.52707838e-02,  6.86863350e-03,  4.58554372e-02,  5.70405992e-02,\n",
       "       -2.52462554e-03,  2.90485598e-02, -2.00144815e-02, -1.17227776e-02,\n",
       "        1.99800519e-02, -7.94771296e-03,  5.60800098e-02, -6.64108813e-02,\n",
       "       -2.30053187e-02,  1.95579411e-02,  2.45553013e-02, -1.44672716e-02,\n",
       "        9.89323725e-03,  3.03201194e-02,  7.98282185e-03,  3.65011353e-02,\n",
       "       -3.84750753e-02, -1.18962206e-02, -4.64198474e-02, -5.78946405e-02,\n",
       "       -1.96877278e-02, -2.45964039e-02, -3.63217086e-02,  1.53965982e-02,\n",
       "        6.68011923e-03,  1.89457655e-02,  8.95671136e-03, -3.28371946e-02,\n",
       "       -4.09969729e-02,  2.30943664e-02, -9.00356693e-03,  8.90532640e-03,\n",
       "        2.57867611e-02,  3.61485883e-02,  2.81312858e-04, -1.86474872e-02,\n",
       "        2.39247347e-02,  3.25190481e-02,  2.05466213e-02, -3.97616735e-02,\n",
       "       -2.25164997e-02,  2.96656585e-02,  9.37868887e-02,  8.92866098e-02,\n",
       "        2.24518388e-03, -2.39226127e-02,  6.93551624e-02, -6.45131646e-03,\n",
       "       -2.60195856e-02,  4.73951325e-02,  3.14661136e-01,  3.92527692e-02,\n",
       "        1.89616667e-02, -1.59065782e-02, -4.50949871e-02,  3.40752022e-02,\n",
       "       -9.57387565e-02,  5.02886129e-03, -1.01400937e-03, -1.38073298e-02,\n",
       "        2.61640000e-02, -1.37756306e-02, -3.96365712e-02, -1.01120149e-01,\n",
       "       -2.19616078e-02, -4.96480088e-02, -8.51466625e-02,  6.70653560e-02,\n",
       "       -1.18507445e-03,  3.87740516e-03,  4.25194933e-02,  6.71914919e-02,\n",
       "        2.19343904e-02, -2.38356347e-02,  4.34552389e-02, -1.80168008e-02,\n",
       "        5.38231368e-03, -2.61430169e-02, -5.80909491e-02, -4.67522076e-02,\n",
       "       -2.13804214e-02,  2.20314319e-02, -2.34274931e-02,  5.26458853e-03,\n",
       "        2.69123026e-02, -5.86921919e-02, -1.22573505e-02,  2.26050145e-02,\n",
       "        1.64443840e-02,  4.10552224e-02, -4.53984325e-02, -1.52062052e-03,\n",
       "       -8.38579080e-03, -3.19943698e-02, -4.01196176e-02, -2.47160064e-02,\n",
       "        1.41737688e-03,  2.80459161e-02,  3.31654110e-03, -1.98020589e-02,\n",
       "       -3.81257606e-02, -2.31101679e-02, -3.99840489e-02,  5.90722135e-02,\n",
       "        8.08723084e-03,  6.05846538e-03, -5.82420570e-03,  3.72492656e-02,\n",
       "       -8.15518793e-03,  2.13894769e-02,  2.50125395e-02, -2.99952987e-02,\n",
       "        1.42709755e-02, -8.72408195e-02,  3.28593059e-02,  2.71273155e-02,\n",
       "        4.90415858e-02, -2.75100997e-03,  8.90911338e-03, -2.25681684e-02,\n",
       "       -2.14980344e-03,  3.51944919e-02,  8.46417150e-03,  1.89223709e-02,\n",
       "        1.27590323e-02,  1.38239050e-02, -5.37047168e-02, -1.03237767e-02,\n",
       "       -1.06072496e-02,  2.93676956e-02,  5.68831864e-03,  4.32257809e-03,\n",
       "       -2.47284381e-02, -5.27473888e-02, -5.18940555e-02,  2.67364125e-02,\n",
       "       -1.60654889e-02,  9.23834690e-02, -1.23717548e-02, -1.42298228e-02,\n",
       "       -7.26252079e-03,  5.26841612e-03,  1.30595443e-02, -4.35414680e-03,\n",
       "       -3.04659879e-02, -1.16895907e-02,  4.76122011e-02])"
      ]
     },
     "execution_count": 56,
     "metadata": {},
     "output_type": "execute_result"
    }
   ],
   "source": [
    "connectomes[0][:5][1]"
   ]
  },
  {
   "cell_type": "code",
   "execution_count": 55,
   "metadata": {},
   "outputs": [
    {
     "data": {
      "text/plain": [
       "array([ 9.34730255e-02,  1.46902344e-01,  6.78925634e-02,  1.51411152e-02,\n",
       "        7.02207934e-02,  6.39970577e-02,  5.53819618e-02, -3.53354226e-02,\n",
       "        6.85829692e-02,  2.92706086e-02,  4.19890253e-03,  4.92138106e-02,\n",
       "       -2.90015042e-02, -1.51080456e-02,  1.24068863e-02,  1.30965922e-02,\n",
       "       -4.61369848e-03,  2.04644974e-02, -4.05810555e-02,  1.43406363e-02,\n",
       "        2.35634212e-02,  3.95715820e-03,  6.63870852e-03,  3.79724360e-02,\n",
       "       -4.04448938e-03,  1.34259117e-02, -7.13744643e-02,  7.81552946e-02,\n",
       "        5.97448140e-02, -6.26566505e-02,  3.24044116e-02,  8.49646651e-02,\n",
       "        6.08435605e-02,  4.92061012e-02, -2.05044779e-03, -3.10447287e-02,\n",
       "       -3.27297546e-03, -2.62885362e-02,  3.23118946e-02, -6.83772043e-02,\n",
       "       -4.61176400e-02, -3.79851738e-02,  2.05866232e-02, -1.60287418e-02,\n",
       "       -3.28919086e-02,  2.17710390e-02, -1.90090163e-02, -2.65369119e-03,\n",
       "       -1.03271091e-02,  1.79561748e-02,  5.38791995e-02, -2.41742884e-02,\n",
       "        6.74939732e-02, -7.57607372e-02, -5.90172920e-02, -5.55026732e-02,\n",
       "        1.96852428e-02,  2.24635828e-02, -3.47184675e-02,  3.08755512e-02,\n",
       "        1.36516445e-02, -6.38279196e-03,  1.05929618e-02,  3.66556685e-02,\n",
       "       -3.31416013e-02,  7.71827615e-02,  1.45629860e-02, -2.27160133e-02,\n",
       "       -4.13288208e-03,  3.71581865e-02, -1.64643240e-02, -3.97604629e-02,\n",
       "       -1.43839609e-02, -1.21103849e-02,  1.74056738e-02,  1.46876992e-03,\n",
       "        8.74921878e-03, -3.69139455e-02, -5.53506917e-03, -3.60972078e-02,\n",
       "        1.04078421e-02, -8.17622113e-02,  3.26819211e-02, -1.76684297e-02,\n",
       "        5.14075495e-02,  4.35685021e-02, -2.77514609e-03,  2.58180271e-02,\n",
       "        7.77126351e-02, -2.19928479e-02, -5.26206650e-03,  3.64286524e-02,\n",
       "        1.33090823e-02,  1.25829426e-02,  1.62671723e-02,  1.40999787e-02,\n",
       "       -4.48695112e-02,  3.62569276e-02, -2.84367317e-03,  1.94266423e-01,\n",
       "       -7.74245523e-03,  5.85532488e-02,  2.77805354e-02,  9.36129539e-02,\n",
       "       -9.55663107e-03,  5.35417218e-02,  4.14263716e-02,  3.33160305e-02,\n",
       "       -3.25017924e-02,  1.77972324e-02, -2.08996389e-02, -2.08720840e-02,\n",
       "        4.90594421e-02,  6.80585532e-02, -3.19389645e-02,  1.40177840e-02,\n",
       "        1.45060975e-02, -4.41519955e-02, -1.66601499e-02,  3.40102609e-02,\n",
       "       -8.56785408e-03,  8.43067408e-03,  8.74601598e-03,  5.58441168e-02,\n",
       "        2.16562973e-02, -5.97995308e-03, -2.17895064e-02, -1.14014765e-02,\n",
       "        1.14109933e-02,  6.75570477e-02,  7.09189569e-03, -4.33343170e-03,\n",
       "        2.54247850e-02, -1.05635249e-02,  9.69630161e-03,  5.61328138e-02,\n",
       "       -2.20876114e-02,  1.67822593e-02,  6.87679842e-03, -5.25169119e-02,\n",
       "        1.14390174e-02, -4.33036088e-03,  1.48175473e-02, -3.39361086e-02,\n",
       "        1.67066549e-04,  8.01785349e-02, -3.52861190e-03,  5.10554350e-02,\n",
       "       -2.99680429e-02, -2.88124240e-02,  1.77168153e-02, -2.85467074e-02,\n",
       "       -6.27408668e-02, -3.41346397e-02,  2.72327679e-02,  3.25761704e-02,\n",
       "       -3.49536130e-02, -2.00798039e-02, -3.79403133e-02,  3.36072558e-02,\n",
       "       -2.74464589e-02,  3.29481036e-02,  5.27364656e-02,  1.37090923e-02,\n",
       "       -8.33718196e-03, -7.07806184e-02, -3.47228201e-02,  1.02384210e-02,\n",
       "        1.38893042e-02,  1.55602793e-02, -1.27142574e-02, -2.22112475e-02,\n",
       "       -3.78373323e-03, -3.02278381e-02,  1.01174253e-02, -3.22490051e-03,\n",
       "        1.44235644e-02,  1.02715659e-02, -6.65109600e-02,  4.05903053e-02,\n",
       "       -2.18513452e-02,  6.44222897e-02, -6.37159678e-03, -5.90374924e-04,\n",
       "       -2.26158904e-03, -1.92009777e-02, -2.21222612e-03,  1.96795495e-02,\n",
       "       -2.51159392e-02, -6.49201137e-04,  4.16411493e-02,  2.54970503e-02,\n",
       "       -3.84982188e-02, -1.52654843e-02,  2.69291738e-03,  7.86683143e-03,\n",
       "       -4.47905223e-02,  2.82350396e-02, -2.08646378e-02])"
      ]
     },
     "execution_count": 55,
     "metadata": {},
     "output_type": "execute_result"
    }
   ],
   "source": [
    "connectomes[0][:5][0]"
   ]
  },
  {
   "cell_type": "code",
   "execution_count": null,
   "metadata": {},
   "outputs": [],
   "source": []
  }
 ],
 "metadata": {
  "kernelspec": {
   "display_name": "caleb",
   "language": "python",
   "name": "pipenv-python3.12"
  },
  "language_info": {
   "codemirror_mode": {
    "name": "ipython",
    "version": 3
   },
   "file_extension": ".py",
   "mimetype": "text/x-python",
   "name": "python",
   "nbconvert_exporter": "python",
   "pygments_lexer": "ipython3",
   "version": "3.11.11"
  },
  "orig_nbformat": 4,
  "vscode": {
   "interpreter": {
    "hash": "3648ed3ee9dddee87dc34cc06df7e231dd1e8360036eeb9d42e97fd68e040d82"
   }
  }
 },
 "nbformat": 4,
 "nbformat_minor": 2
}
