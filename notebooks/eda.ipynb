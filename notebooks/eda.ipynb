{
 "cells": [
  {
   "cell_type": "code",
   "execution_count": null,
   "metadata": {},
   "outputs": [],
   "source": [
    "import pandas as pd\n",
    "import os\n",
    "from pathlib import Path\n",
    "\n",
    "def convert_excel_to_csv(folder_path):\n",
    "    \"\"\"\n",
    "    Convert all Excel files in a folder to CSV and show their previews.\n",
    "    \n",
    "    Args:\n",
    "        folder_path (str): Path to the folder containing Excel files\n",
    "    \"\"\"\n",
    "    # Convert folder path to Path object\n",
    "    folder = Path(folder_path)\n",
    "    \n",
    "    # Loop through all files in the folder\n",
    "    for file in folder.glob('*.xlsx'):\n",
    "        try:\n",
    "            # Read the Excel file\n",
    "            df = pd.read_excel(file)\n",
    "            \n",
    "            # Create CSV filename (same name, different extension)\n",
    "            csv_path = file.with_suffix('.csv')\n",
    "            \n",
    "            # Save as CSV\n",
    "            df.to_csv(csv_path, index=False)\n",
    "            \n",
    "            # Print information about the conversion\n",
    "            print(f\"\\nConverted: {file.name} → {csv_path.name}\")\n",
    "            print(f\"Shape: {df.shape}\")\n",
    "            print(\"\\nPreview:\")\n",
    "            print(df.head())\n",
    "            print(\"\\n\" + \"=\"*50)\n",
    "            \n",
    "        except Exception as e:\n",
    "            print(f\"Error processing {file.name}: {str(e)}\")\n",
    "\n",
    "# Example usage:\n",
    "# convert_excel_to_csv('data')"
   ]
  }
 ],
 "metadata": {
  "kernelspec": {
   "display_name": "base",
   "language": "python",
   "name": "python3"
  },
  "language_info": {
   "name": "python",
   "version": "3.9.13 (main, Aug 25 2022, 18:29:29) \n[Clang 12.0.0 ]"
  },
  "orig_nbformat": 4,
  "vscode": {
   "interpreter": {
    "hash": "3648ed3ee9dddee87dc34cc06df7e231dd1e8360036eeb9d42e97fd68e040d82"
   }
  }
 },
 "nbformat": 4,
 "nbformat_minor": 2
}
