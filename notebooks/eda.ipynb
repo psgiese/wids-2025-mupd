{
 "cells": [
  {
   "cell_type": "code",
   "execution_count": 2,
   "metadata": {},
   "outputs": [],
   "source": [
    "import pandas as pd\n",
    "import numpy as np\n",
    "import os\n",
    "from pathlib import Path\n",
    "import xarray as xr\n",
    "\n",
    "def convert_excel_to_csv(folder_path):\n",
    "    \"\"\"\n",
    "    Convert all Excel files in a folder to CSV and show their previews.\n",
    "    \n",
    "    Args:\n",
    "        folder_path (str): Path to the folder containing Excel files\n",
    "    \"\"\"\n",
    "    # Convert folder path to Path object\n",
    "    folder = Path(folder_path)\n",
    "    \n",
    "    # Loop through all files in the folder\n",
    "    for file in folder.glob('*.xlsx'):\n",
    "        try:\n",
    "            # Read the Excel file\n",
    "            df = pd.read_excel(file)\n",
    "            \n",
    "            # Create CSV filename (same name, different extension)\n",
    "            csv_path = file.with_suffix('.csv')\n",
    "            \n",
    "            # Save as CSV\n",
    "            df.to_csv(csv_path, index=False)\n",
    "            \n",
    "            # Print information about the conversion\n",
    "            print(f\"\\nConverted: {file.name} → {csv_path.name}\")\n",
    "            print(f\"Shape: {df.shape}\")\n",
    "            print(\"\\nPreview:\")\n",
    "            print(df.head())\n",
    "            print(\"\\n\" + \"=\"*50)\n",
    "            \n",
    "        except Exception as e:\n",
    "            print(f\"Error processing {file.name}: {str(e)}\")\n",
    "\n",
    "# Example usage:\n",
    "# convert_excel_to_csv('data')"
   ]
  },
  {
   "cell_type": "code",
   "execution_count": 3,
   "metadata": {},
   "outputs": [],
   "source": [
    "#convert_excel_to_csv('/Users/paigegiese/SYG/wids-2025-mupd/data/TRAIN/')"
   ]
  },
  {
   "cell_type": "code",
   "execution_count": 4,
   "metadata": {},
   "outputs": [
    {
     "data": {
      "text/plain": [
       "Index(['participant_id', '0throw_1thcolumn'], dtype='object')"
      ]
     },
     "execution_count": 4,
     "metadata": {},
     "output_type": "execute_result"
    }
   ],
   "source": [
    "mri  = pd.read_csv('/Users/paigegiese/SYG/wids-2025-mupd/data/TRAIN/TRAIN_FUNCTIONAL_CONNECTOME_MATRICES.csv')\n",
    "\n",
    "mri.columns[:2]"
   ]
  },
  {
   "cell_type": "code",
   "execution_count": 5,
   "metadata": {},
   "outputs": [
    {
     "data": {
      "text/plain": [
       "Index(['196throw_198thcolumn', '196throw_199thcolumn', '197throw_198thcolumn',\n",
       "       '197throw_199thcolumn', '198throw_199thcolumn'],\n",
       "      dtype='object')"
      ]
     },
     "execution_count": 5,
     "metadata": {},
     "output_type": "execute_result"
    }
   ],
   "source": [
    "mri.columns[-5:]"
   ]
  },
  {
   "cell_type": "code",
   "execution_count": 6,
   "metadata": {},
   "outputs": [],
   "source": [
    "df = pd.read_csv('/Users/paigegiese/SYG/wids-2025-mupd/data/TRAIN/TRAIN_FUNCTIONAL_CONNECTOME_MATRICES.csv')\n",
    "solutions = pd.read_csv('/Users/paigegiese/SYG/wids-2025-mupd/data/TRAIN/TRAINING_SOLUTIONS.csv')\n",
    "# Extract numerical indices from column names\n",
    "#df = df.iloc[:,1:]\n",
    "\n"
   ]
  },
  {
   "cell_type": "code",
   "execution_count": 7,
   "metadata": {},
   "outputs": [
    {
     "name": "stdout",
     "output_type": "stream",
     "text": [
      "(1213, 19901)\n",
      "(1213, 3)\n"
     ]
    }
   ],
   "source": [
    "df.sort_values(by='participant_id', ascending=True, inplace=True)\n",
    "solutions.sort_values(by='participant_id', ascending=True, inplace=True)\n",
    "\n",
    "print(df.shape)\n",
    "print(solutions.shape)"
   ]
  },
  {
   "cell_type": "code",
   "execution_count": 8,
   "metadata": {},
   "outputs": [
    {
     "data": {
      "text/html": [
       "<div>\n",
       "<style scoped>\n",
       "    .dataframe tbody tr th:only-of-type {\n",
       "        vertical-align: middle;\n",
       "    }\n",
       "\n",
       "    .dataframe tbody tr th {\n",
       "        vertical-align: top;\n",
       "    }\n",
       "\n",
       "    .dataframe thead th {\n",
       "        text-align: right;\n",
       "    }\n",
       "</style>\n",
       "<table border=\"1\" class=\"dataframe\">\n",
       "  <thead>\n",
       "    <tr style=\"text-align: right;\">\n",
       "      <th></th>\n",
       "      <th>participant_id</th>\n",
       "      <th>0throw_1thcolumn</th>\n",
       "      <th>0throw_2thcolumn</th>\n",
       "      <th>0throw_3thcolumn</th>\n",
       "      <th>0throw_4thcolumn</th>\n",
       "      <th>0throw_5thcolumn</th>\n",
       "      <th>0throw_6thcolumn</th>\n",
       "      <th>0throw_7thcolumn</th>\n",
       "      <th>0throw_8thcolumn</th>\n",
       "      <th>0throw_9thcolumn</th>\n",
       "      <th>...</th>\n",
       "      <th>195throw_196thcolumn</th>\n",
       "      <th>195throw_197thcolumn</th>\n",
       "      <th>195throw_198thcolumn</th>\n",
       "      <th>195throw_199thcolumn</th>\n",
       "      <th>196throw_197thcolumn</th>\n",
       "      <th>196throw_198thcolumn</th>\n",
       "      <th>196throw_199thcolumn</th>\n",
       "      <th>197throw_198thcolumn</th>\n",
       "      <th>197throw_199thcolumn</th>\n",
       "      <th>198throw_199thcolumn</th>\n",
       "    </tr>\n",
       "  </thead>\n",
       "  <tbody>\n",
       "    <tr>\n",
       "      <th>867</th>\n",
       "      <td>00aIpNTbG5uh</td>\n",
       "      <td>0.047912</td>\n",
       "      <td>0.147614</td>\n",
       "      <td>0.035215</td>\n",
       "      <td>0.041143</td>\n",
       "      <td>0.070673</td>\n",
       "      <td>0.080293</td>\n",
       "      <td>0.063638</td>\n",
       "      <td>-0.016682</td>\n",
       "      <td>0.043650</td>\n",
       "      <td>...</td>\n",
       "      <td>0.066630</td>\n",
       "      <td>0.053134</td>\n",
       "      <td>-0.031380</td>\n",
       "      <td>0.032986</td>\n",
       "      <td>0.081980</td>\n",
       "      <td>0.093708</td>\n",
       "      <td>0.021903</td>\n",
       "      <td>0.029458</td>\n",
       "      <td>-0.016072</td>\n",
       "      <td>0.169368</td>\n",
       "    </tr>\n",
       "    <tr>\n",
       "      <th>28</th>\n",
       "      <td>00fV0OyyoLfw</td>\n",
       "      <td>-0.003560</td>\n",
       "      <td>0.131635</td>\n",
       "      <td>0.067454</td>\n",
       "      <td>0.073367</td>\n",
       "      <td>0.013845</td>\n",
       "      <td>0.198074</td>\n",
       "      <td>0.038971</td>\n",
       "      <td>-0.109366</td>\n",
       "      <td>-0.034447</td>\n",
       "      <td>...</td>\n",
       "      <td>0.050297</td>\n",
       "      <td>-0.063647</td>\n",
       "      <td>0.038632</td>\n",
       "      <td>-0.042040</td>\n",
       "      <td>0.125651</td>\n",
       "      <td>0.127045</td>\n",
       "      <td>0.142448</td>\n",
       "      <td>0.051943</td>\n",
       "      <td>0.138729</td>\n",
       "      <td>0.168951</td>\n",
       "    </tr>\n",
       "    <tr>\n",
       "      <th>509</th>\n",
       "      <td>04X1eiS79T4B</td>\n",
       "      <td>-0.076074</td>\n",
       "      <td>0.162668</td>\n",
       "      <td>0.050365</td>\n",
       "      <td>0.035320</td>\n",
       "      <td>0.055263</td>\n",
       "      <td>0.047298</td>\n",
       "      <td>0.155932</td>\n",
       "      <td>0.012768</td>\n",
       "      <td>0.084281</td>\n",
       "      <td>...</td>\n",
       "      <td>-0.047927</td>\n",
       "      <td>0.089904</td>\n",
       "      <td>0.013774</td>\n",
       "      <td>-0.057094</td>\n",
       "      <td>0.084471</td>\n",
       "      <td>0.075582</td>\n",
       "      <td>0.093687</td>\n",
       "      <td>0.091592</td>\n",
       "      <td>0.114817</td>\n",
       "      <td>0.157812</td>\n",
       "    </tr>\n",
       "  </tbody>\n",
       "</table>\n",
       "<p>3 rows × 19901 columns</p>\n",
       "</div>"
      ],
      "text/plain": [
       "    participant_id  0throw_1thcolumn  0throw_2thcolumn  0throw_3thcolumn  \\\n",
       "867   00aIpNTbG5uh          0.047912          0.147614          0.035215   \n",
       "28    00fV0OyyoLfw         -0.003560          0.131635          0.067454   \n",
       "509   04X1eiS79T4B         -0.076074          0.162668          0.050365   \n",
       "\n",
       "     0throw_4thcolumn  0throw_5thcolumn  0throw_6thcolumn  0throw_7thcolumn  \\\n",
       "867          0.041143          0.070673          0.080293          0.063638   \n",
       "28           0.073367          0.013845          0.198074          0.038971   \n",
       "509          0.035320          0.055263          0.047298          0.155932   \n",
       "\n",
       "     0throw_8thcolumn  0throw_9thcolumn  ...  195throw_196thcolumn  \\\n",
       "867         -0.016682          0.043650  ...              0.066630   \n",
       "28          -0.109366         -0.034447  ...              0.050297   \n",
       "509          0.012768          0.084281  ...             -0.047927   \n",
       "\n",
       "     195throw_197thcolumn  195throw_198thcolumn  195throw_199thcolumn  \\\n",
       "867              0.053134             -0.031380              0.032986   \n",
       "28              -0.063647              0.038632             -0.042040   \n",
       "509              0.089904              0.013774             -0.057094   \n",
       "\n",
       "     196throw_197thcolumn  196throw_198thcolumn  196throw_199thcolumn  \\\n",
       "867              0.081980              0.093708              0.021903   \n",
       "28               0.125651              0.127045              0.142448   \n",
       "509              0.084471              0.075582              0.093687   \n",
       "\n",
       "     197throw_198thcolumn  197throw_199thcolumn  198throw_199thcolumn  \n",
       "867              0.029458             -0.016072              0.169368  \n",
       "28               0.051943              0.138729              0.168951  \n",
       "509              0.091592              0.114817              0.157812  \n",
       "\n",
       "[3 rows x 19901 columns]"
      ]
     },
     "execution_count": 8,
     "metadata": {},
     "output_type": "execute_result"
    }
   ],
   "source": [
    "df.head(3)"
   ]
  },
  {
   "attachments": {},
   "cell_type": "markdown",
   "metadata": {},
   "source": [
    "# Initial observations about targets"
   ]
  },
  {
   "cell_type": "code",
   "execution_count": 9,
   "metadata": {},
   "outputs": [
    {
     "name": "stdout",
     "output_type": "stream",
     "text": [
      "0.685078318219291\n",
      "0.34295136026380874\n"
     ]
    }
   ],
   "source": [
    "print(solutions['ADHD_Outcome'].mean())\n",
    "print(solutions['Sex_F'].mean())"
   ]
  },
  {
   "cell_type": "code",
   "execution_count": 10,
   "metadata": {},
   "outputs": [
    {
     "data": {
      "text/plain": [
       "0.20610057708161583"
      ]
     },
     "execution_count": 10,
     "metadata": {},
     "output_type": "execute_result"
    }
   ],
   "source": [
    "(solutions['ADHD_Outcome']*solutions['Sex_F']).mean()"
   ]
  },
  {
   "cell_type": "code",
   "execution_count": 11,
   "metadata": {},
   "outputs": [
    {
     "data": {
      "text/plain": [
       "Sex_F\n",
       "0    0.728984\n",
       "1    0.600962\n",
       "Name: ADHD_Outcome, dtype: float64"
      ]
     },
     "execution_count": 11,
     "metadata": {},
     "output_type": "execute_result"
    }
   ],
   "source": [
    "solutions.groupby('Sex_F')['ADHD_Outcome'].mean()"
   ]
  },
  {
   "cell_type": "markdown",
   "metadata": {},
   "source": [
    "# Let's try to combine the targets with the brain region data"
   ]
  },
  {
   "cell_type": "code",
   "execution_count": 12,
   "metadata": {},
   "outputs": [
    {
     "data": {
      "text/html": [
       "<div>\n",
       "<style scoped>\n",
       "    .dataframe tbody tr th:only-of-type {\n",
       "        vertical-align: middle;\n",
       "    }\n",
       "\n",
       "    .dataframe tbody tr th {\n",
       "        vertical-align: top;\n",
       "    }\n",
       "\n",
       "    .dataframe thead th {\n",
       "        text-align: right;\n",
       "    }\n",
       "</style>\n",
       "<table border=\"1\" class=\"dataframe\">\n",
       "  <thead>\n",
       "    <tr style=\"text-align: right;\">\n",
       "      <th></th>\n",
       "      <th>participant_id</th>\n",
       "      <th>0throw_1thcolumn</th>\n",
       "      <th>0throw_2thcolumn</th>\n",
       "      <th>0throw_3thcolumn</th>\n",
       "      <th>0throw_4thcolumn</th>\n",
       "      <th>0throw_5thcolumn</th>\n",
       "      <th>0throw_6thcolumn</th>\n",
       "      <th>0throw_7thcolumn</th>\n",
       "      <th>0throw_8thcolumn</th>\n",
       "      <th>0throw_9thcolumn</th>\n",
       "      <th>...</th>\n",
       "      <th>195throw_198thcolumn</th>\n",
       "      <th>195throw_199thcolumn</th>\n",
       "      <th>196throw_197thcolumn</th>\n",
       "      <th>196throw_198thcolumn</th>\n",
       "      <th>196throw_199thcolumn</th>\n",
       "      <th>197throw_198thcolumn</th>\n",
       "      <th>197throw_199thcolumn</th>\n",
       "      <th>198throw_199thcolumn</th>\n",
       "      <th>ADHD_Outcome</th>\n",
       "      <th>Sex_F</th>\n",
       "    </tr>\n",
       "  </thead>\n",
       "  <tbody>\n",
       "    <tr>\n",
       "      <th>0</th>\n",
       "      <td>00aIpNTbG5uh</td>\n",
       "      <td>0.047912</td>\n",
       "      <td>0.147614</td>\n",
       "      <td>0.035215</td>\n",
       "      <td>0.041143</td>\n",
       "      <td>0.070673</td>\n",
       "      <td>0.080293</td>\n",
       "      <td>0.063638</td>\n",
       "      <td>-0.016682</td>\n",
       "      <td>0.043650</td>\n",
       "      <td>...</td>\n",
       "      <td>-0.031380</td>\n",
       "      <td>0.032986</td>\n",
       "      <td>0.081980</td>\n",
       "      <td>0.093708</td>\n",
       "      <td>0.021903</td>\n",
       "      <td>0.029458</td>\n",
       "      <td>-0.016072</td>\n",
       "      <td>0.169368</td>\n",
       "      <td>1</td>\n",
       "      <td>0</td>\n",
       "    </tr>\n",
       "    <tr>\n",
       "      <th>1</th>\n",
       "      <td>00fV0OyyoLfw</td>\n",
       "      <td>-0.003560</td>\n",
       "      <td>0.131635</td>\n",
       "      <td>0.067454</td>\n",
       "      <td>0.073367</td>\n",
       "      <td>0.013845</td>\n",
       "      <td>0.198074</td>\n",
       "      <td>0.038971</td>\n",
       "      <td>-0.109366</td>\n",
       "      <td>-0.034447</td>\n",
       "      <td>...</td>\n",
       "      <td>0.038632</td>\n",
       "      <td>-0.042040</td>\n",
       "      <td>0.125651</td>\n",
       "      <td>0.127045</td>\n",
       "      <td>0.142448</td>\n",
       "      <td>0.051943</td>\n",
       "      <td>0.138729</td>\n",
       "      <td>0.168951</td>\n",
       "      <td>1</td>\n",
       "      <td>0</td>\n",
       "    </tr>\n",
       "    <tr>\n",
       "      <th>2</th>\n",
       "      <td>04X1eiS79T4B</td>\n",
       "      <td>-0.076074</td>\n",
       "      <td>0.162668</td>\n",
       "      <td>0.050365</td>\n",
       "      <td>0.035320</td>\n",
       "      <td>0.055263</td>\n",
       "      <td>0.047298</td>\n",
       "      <td>0.155932</td>\n",
       "      <td>0.012768</td>\n",
       "      <td>0.084281</td>\n",
       "      <td>...</td>\n",
       "      <td>0.013774</td>\n",
       "      <td>-0.057094</td>\n",
       "      <td>0.084471</td>\n",
       "      <td>0.075582</td>\n",
       "      <td>0.093687</td>\n",
       "      <td>0.091592</td>\n",
       "      <td>0.114817</td>\n",
       "      <td>0.157812</td>\n",
       "      <td>0</td>\n",
       "      <td>1</td>\n",
       "    </tr>\n",
       "    <tr>\n",
       "      <th>3</th>\n",
       "      <td>05ocQutkURd6</td>\n",
       "      <td>0.054913</td>\n",
       "      <td>0.160764</td>\n",
       "      <td>0.150480</td>\n",
       "      <td>0.113151</td>\n",
       "      <td>0.135581</td>\n",
       "      <td>0.118498</td>\n",
       "      <td>0.032319</td>\n",
       "      <td>-0.078683</td>\n",
       "      <td>-0.013995</td>\n",
       "      <td>...</td>\n",
       "      <td>-0.075685</td>\n",
       "      <td>-0.029209</td>\n",
       "      <td>0.087122</td>\n",
       "      <td>0.009254</td>\n",
       "      <td>0.114800</td>\n",
       "      <td>0.218728</td>\n",
       "      <td>0.090305</td>\n",
       "      <td>0.159943</td>\n",
       "      <td>0</td>\n",
       "      <td>1</td>\n",
       "    </tr>\n",
       "    <tr>\n",
       "      <th>4</th>\n",
       "      <td>06YUNBA9ZRLq</td>\n",
       "      <td>0.100683</td>\n",
       "      <td>0.103170</td>\n",
       "      <td>0.046506</td>\n",
       "      <td>0.127893</td>\n",
       "      <td>0.075231</td>\n",
       "      <td>0.019648</td>\n",
       "      <td>0.116546</td>\n",
       "      <td>0.035825</td>\n",
       "      <td>0.044905</td>\n",
       "      <td>...</td>\n",
       "      <td>-0.005693</td>\n",
       "      <td>-0.001515</td>\n",
       "      <td>0.166933</td>\n",
       "      <td>0.005170</td>\n",
       "      <td>0.005126</td>\n",
       "      <td>0.126259</td>\n",
       "      <td>-0.038223</td>\n",
       "      <td>0.181322</td>\n",
       "      <td>1</td>\n",
       "      <td>0</td>\n",
       "    </tr>\n",
       "  </tbody>\n",
       "</table>\n",
       "<p>5 rows × 19903 columns</p>\n",
       "</div>"
      ],
      "text/plain": [
       "  participant_id  0throw_1thcolumn  0throw_2thcolumn  0throw_3thcolumn  \\\n",
       "0   00aIpNTbG5uh          0.047912          0.147614          0.035215   \n",
       "1   00fV0OyyoLfw         -0.003560          0.131635          0.067454   \n",
       "2   04X1eiS79T4B         -0.076074          0.162668          0.050365   \n",
       "3   05ocQutkURd6          0.054913          0.160764          0.150480   \n",
       "4   06YUNBA9ZRLq          0.100683          0.103170          0.046506   \n",
       "\n",
       "   0throw_4thcolumn  0throw_5thcolumn  0throw_6thcolumn  0throw_7thcolumn  \\\n",
       "0          0.041143          0.070673          0.080293          0.063638   \n",
       "1          0.073367          0.013845          0.198074          0.038971   \n",
       "2          0.035320          0.055263          0.047298          0.155932   \n",
       "3          0.113151          0.135581          0.118498          0.032319   \n",
       "4          0.127893          0.075231          0.019648          0.116546   \n",
       "\n",
       "   0throw_8thcolumn  0throw_9thcolumn  ...  195throw_198thcolumn  \\\n",
       "0         -0.016682          0.043650  ...             -0.031380   \n",
       "1         -0.109366         -0.034447  ...              0.038632   \n",
       "2          0.012768          0.084281  ...              0.013774   \n",
       "3         -0.078683         -0.013995  ...             -0.075685   \n",
       "4          0.035825          0.044905  ...             -0.005693   \n",
       "\n",
       "   195throw_199thcolumn  196throw_197thcolumn  196throw_198thcolumn  \\\n",
       "0              0.032986              0.081980              0.093708   \n",
       "1             -0.042040              0.125651              0.127045   \n",
       "2             -0.057094              0.084471              0.075582   \n",
       "3             -0.029209              0.087122              0.009254   \n",
       "4             -0.001515              0.166933              0.005170   \n",
       "\n",
       "   196throw_199thcolumn  197throw_198thcolumn  197throw_199thcolumn  \\\n",
       "0              0.021903              0.029458             -0.016072   \n",
       "1              0.142448              0.051943              0.138729   \n",
       "2              0.093687              0.091592              0.114817   \n",
       "3              0.114800              0.218728              0.090305   \n",
       "4              0.005126              0.126259             -0.038223   \n",
       "\n",
       "   198throw_199thcolumn  ADHD_Outcome  Sex_F  \n",
       "0              0.169368             1      0  \n",
       "1              0.168951             1      0  \n",
       "2              0.157812             0      1  \n",
       "3              0.159943             0      1  \n",
       "4              0.181322             1      0  \n",
       "\n",
       "[5 rows x 19903 columns]"
      ]
     },
     "execution_count": 12,
     "metadata": {},
     "output_type": "execute_result"
    }
   ],
   "source": [
    "df_labeled = df.merge(solutions, how='inner', on='participant_id')\n",
    "df_labeled.head()"
   ]
  },
  {
   "cell_type": "code",
   "execution_count": 13,
   "metadata": {},
   "outputs": [
    {
     "name": "stdout",
     "output_type": "stream",
     "text": [
      "Skipping malformed column: participant_id\n",
      "Skipping malformed column: ADHD_Outcome\n",
      "Skipping malformed column: Sex_F\n"
     ]
    }
   ],
   "source": [
    "region_pairs = []\n",
    "for col in df_labeled.columns:\n",
    "    try:\n",
    "        i, j = col.split('throw_')\n",
    "        i = int(i)  # Convert \"0throw\" → 0\n",
    "        j = int(j.replace('thcolumn', ''))  # Convert \"2thcolumn\" → 2\n",
    "        region_pairs.append((i, j))\n",
    "    except ValueError:\n",
    "        print(f\"Skipping malformed column: {col}\")\n",
    "\n",
    "region_pairs = np.array(region_pairs)\n",
    "\n",
    "# # Check if the number of extracted pairs matches the dataframe's width\n",
    "# #assert len(region_pairs) == df_labeled.shape[1]\n"
   ]
  },
  {
   "cell_type": "code",
   "execution_count": 14,
   "metadata": {},
   "outputs": [
    {
     "data": {
      "text/plain": [
       "(19900, 2)"
      ]
     },
     "execution_count": 14,
     "metadata": {},
     "output_type": "execute_result"
    }
   ],
   "source": [
    "region_pairs.shape"
   ]
  },
  {
   "cell_type": "code",
   "execution_count": 15,
   "metadata": {},
   "outputs": [
    {
     "data": {
      "text/plain": [
       "(10, 199, 199)"
      ]
     },
     "execution_count": 15,
     "metadata": {},
     "output_type": "execute_result"
    }
   ],
   "source": [
    "np.random.rand(10, *(199,199)).shape"
   ]
  },
  {
   "cell_type": "code",
   "execution_count": 16,
   "metadata": {},
   "outputs": [],
   "source": [
    "def reshape_to_matrix(patient_data):\n",
    "    matrix = np.zeros((199, 199))  # Initialize 199x199 matrix\n",
    "    \n",
    "    for idx, (i, j) in enumerate(region_pairs):\n",
    "        matrix[i, j - 1] = patient_data[idx]  # Subtract 1 from j\n",
    "\n",
    "    return matrix\n"
   ]
  },
  {
   "cell_type": "code",
   "execution_count": 17,
   "metadata": {},
   "outputs": [
    {
     "name": "stderr",
     "output_type": "stream",
     "text": [
      "/var/folders/9v/6bsrztp11777s06bs8q25y2h0000gn/T/ipykernel_74153/1768268947.py:5: FutureWarning: Series.__getitem__ treating keys as positions is deprecated. In a future version, integer keys will always be treated as labels (consistent with DataFrame behavior). To access a value by position, use `ser.iloc[pos]`\n",
      "  matrix[i, j - 1] = patient_data[idx]  # Subtract 1 from j\n"
     ]
    }
   ],
   "source": [
    "connectomes = np.array([reshape_to_matrix(row) for _, row in df.iloc[:,1:].iterrows()])"
   ]
  },
  {
   "cell_type": "code",
   "execution_count": 18,
   "metadata": {},
   "outputs": [
    {
     "name": "stdout",
     "output_type": "stream",
     "text": [
      "(1213, 199, 199)\n"
     ]
    }
   ],
   "source": [
    "print(connectomes.shape)"
   ]
  },
  {
   "cell_type": "code",
   "execution_count": 19,
   "metadata": {},
   "outputs": [
    {
     "data": {
      "text/plain": [
       "array([[ 4.79122847e-02,  1.47614054e-01,  3.52153165e-02, ...,\n",
       "        -6.08229905e-03,  2.43801034e-02,  1.69569559e-02],\n",
       "       [ 0.00000000e+00,  2.21137462e-04,  2.24245324e-01, ...,\n",
       "         6.41926279e-03,  1.13299034e-02,  4.57474870e-02],\n",
       "       [ 0.00000000e+00,  0.00000000e+00,  2.45980212e-03, ...,\n",
       "        -1.01286413e-02, -4.02200624e-02, -2.03974395e-02],\n",
       "       ...,\n",
       "       [ 0.00000000e+00,  0.00000000e+00,  0.00000000e+00, ...,\n",
       "         8.19798108e-02,  9.37075573e-02,  2.19027580e-02],\n",
       "       [ 0.00000000e+00,  0.00000000e+00,  0.00000000e+00, ...,\n",
       "         0.00000000e+00,  2.94577040e-02, -1.60715975e-02],\n",
       "       [ 0.00000000e+00,  0.00000000e+00,  0.00000000e+00, ...,\n",
       "         0.00000000e+00,  0.00000000e+00,  1.69367514e-01]])"
      ]
     },
     "execution_count": 19,
     "metadata": {},
     "output_type": "execute_result"
    }
   ],
   "source": [
    "connectomes[0]"
   ]
  },
  {
   "cell_type": "code",
   "execution_count": 20,
   "metadata": {},
   "outputs": [
    {
     "data": {
      "text/plain": [
       "(1213, 199, 199)"
      ]
     },
     "execution_count": 20,
     "metadata": {},
     "output_type": "execute_result"
    }
   ],
   "source": [
    "connectomes.shape"
   ]
  },
  {
   "cell_type": "code",
   "execution_count": 23,
   "metadata": {},
   "outputs": [
    {
     "name": "stdout",
     "output_type": "stream",
     "text": [
      "<xarray.Dataset> Size: 384MB\n",
      "Dimensions:         (participant_id: 1213, x: 199, y: 199)\n",
      "Coordinates:\n",
      "  * participant_id  (participant_id) object 10kB '00aIpNTbG5uh' ... 'zwjJWCRz...\n",
      "    adhd_label      (participant_id) int64 10kB 1 1 0 0 1 1 1 ... 1 0 1 1 0 1 0\n",
      "    sex_label       (participant_id) int64 10kB 0 0 1 1 0 0 1 ... 0 1 0 0 0 0 1\n",
      "  * x               (x) int64 2kB 0 1 2 3 4 5 6 ... 192 193 194 195 196 197 198\n",
      "  * y               (y) int64 2kB 0 1 2 3 4 5 6 ... 192 193 194 195 196 197 198\n",
      "Data variables:\n",
      "    observations    (participant_id, x, y) float64 384MB 0.04791 ... 0.1704\n"
     ]
    }
   ],
   "source": [
    "participants = df['participant_id'].values\n",
    "adhd_label = solutions['ADHD_Outcome'].values\n",
    "sex_label = solutions['Sex_F'].values\n",
    "\n",
    "# Create xarray Dataset\n",
    "ds = xr.Dataset(\n",
    "    {\n",
    "        \"observations\": ((\"participant_id\", \"x\", \"y\"), connectomes)  # 3D data (10, 199, 199)\n",
    "    },\n",
    "    coords={\n",
    "        \"participant_id\": participants,  # Participant ID as an indexable coordinate\n",
    "        \"adhd_label\": (\"participant_id\", adhd_label),  # Map ADHD label to participant_id\n",
    "        \"sex_label\": (\"participant_id\", sex_label),  # Map Sex label to participant_id\n",
    "        \"x\": np.arange(199),  # X dimension\n",
    "        \"y\": np.arange(199),  # Y dimension\n",
    "    }\n",
    ")\n",
    "\n",
    "print(ds)"
   ]
  },
  {
   "cell_type": "code",
   "execution_count": 114,
   "metadata": {},
   "outputs": [
    {
     "data": {
      "text/plain": [
       "(2, 199, 199)"
      ]
     },
     "execution_count": 114,
     "metadata": {},
     "output_type": "execute_result"
    }
   ],
   "source": [
    "grouped_mean = ds[\"observations\"].groupby([\"adhd_label\"]).mean(dim=\"participant_id\")\n",
    "grouped_mean.shape\n"
   ]
  },
  {
   "cell_type": "code",
   "execution_count": 115,
   "metadata": {},
   "outputs": [],
   "source": [
    "epsilon = 1e-6  # Small offset to prevent division by zero\n",
    "relative_diff = abs(\n",
    "    (grouped_mean.sel(adhd_label=1) - grouped_mean.sel(adhd_label=0)) / \n",
    "    (abs(grouped_mean.sel(adhd_label=0)) + epsilon)\n",
    ")\n"
   ]
  },
  {
   "cell_type": "code",
   "execution_count": 112,
   "metadata": {},
   "outputs": [
    {
     "data": {
      "text/plain": [
       "1.0"
      ]
     },
     "execution_count": 112,
     "metadata": {},
     "output_type": "execute_result"
    }
   ],
   "source": [
    "(.1-.05)/.05"
   ]
  },
  {
   "cell_type": "code",
   "execution_count": 117,
   "metadata": {},
   "outputs": [
    {
     "data": {
      "text/html": [
       "<div><svg style=\"position: absolute; width: 0; height: 0; overflow: hidden\">\n",
       "<defs>\n",
       "<symbol id=\"icon-database\" viewBox=\"0 0 32 32\">\n",
       "<path d=\"M16 0c-8.837 0-16 2.239-16 5v4c0 2.761 7.163 5 16 5s16-2.239 16-5v-4c0-2.761-7.163-5-16-5z\"></path>\n",
       "<path d=\"M16 17c-8.837 0-16-2.239-16-5v6c0 2.761 7.163 5 16 5s16-2.239 16-5v-6c0 2.761-7.163 5-16 5z\"></path>\n",
       "<path d=\"M16 26c-8.837 0-16-2.239-16-5v6c0 2.761 7.163 5 16 5s16-2.239 16-5v-6c0 2.761-7.163 5-16 5z\"></path>\n",
       "</symbol>\n",
       "<symbol id=\"icon-file-text2\" viewBox=\"0 0 32 32\">\n",
       "<path d=\"M28.681 7.159c-0.694-0.947-1.662-2.053-2.724-3.116s-2.169-2.030-3.116-2.724c-1.612-1.182-2.393-1.319-2.841-1.319h-15.5c-1.378 0-2.5 1.121-2.5 2.5v27c0 1.378 1.122 2.5 2.5 2.5h23c1.378 0 2.5-1.122 2.5-2.5v-19.5c0-0.448-0.137-1.23-1.319-2.841zM24.543 5.457c0.959 0.959 1.712 1.825 2.268 2.543h-4.811v-4.811c0.718 0.556 1.584 1.309 2.543 2.268zM28 29.5c0 0.271-0.229 0.5-0.5 0.5h-23c-0.271 0-0.5-0.229-0.5-0.5v-27c0-0.271 0.229-0.5 0.5-0.5 0 0 15.499-0 15.5 0v7c0 0.552 0.448 1 1 1h7v19.5z\"></path>\n",
       "<path d=\"M23 26h-14c-0.552 0-1-0.448-1-1s0.448-1 1-1h14c0.552 0 1 0.448 1 1s-0.448 1-1 1z\"></path>\n",
       "<path d=\"M23 22h-14c-0.552 0-1-0.448-1-1s0.448-1 1-1h14c0.552 0 1 0.448 1 1s-0.448 1-1 1z\"></path>\n",
       "<path d=\"M23 18h-14c-0.552 0-1-0.448-1-1s0.448-1 1-1h14c0.552 0 1 0.448 1 1s-0.448 1-1 1z\"></path>\n",
       "</symbol>\n",
       "</defs>\n",
       "</svg>\n",
       "<style>/* CSS stylesheet for displaying xarray objects in jupyterlab.\n",
       " *\n",
       " */\n",
       "\n",
       ":root {\n",
       "  --xr-font-color0: var(--jp-content-font-color0, rgba(0, 0, 0, 1));\n",
       "  --xr-font-color2: var(--jp-content-font-color2, rgba(0, 0, 0, 0.54));\n",
       "  --xr-font-color3: var(--jp-content-font-color3, rgba(0, 0, 0, 0.38));\n",
       "  --xr-border-color: var(--jp-border-color2, #e0e0e0);\n",
       "  --xr-disabled-color: var(--jp-layout-color3, #bdbdbd);\n",
       "  --xr-background-color: var(--jp-layout-color0, white);\n",
       "  --xr-background-color-row-even: var(--jp-layout-color1, white);\n",
       "  --xr-background-color-row-odd: var(--jp-layout-color2, #eeeeee);\n",
       "}\n",
       "\n",
       "html[theme=\"dark\"],\n",
       "html[data-theme=\"dark\"],\n",
       "body[data-theme=\"dark\"],\n",
       "body.vscode-dark {\n",
       "  --xr-font-color0: rgba(255, 255, 255, 1);\n",
       "  --xr-font-color2: rgba(255, 255, 255, 0.54);\n",
       "  --xr-font-color3: rgba(255, 255, 255, 0.38);\n",
       "  --xr-border-color: #1f1f1f;\n",
       "  --xr-disabled-color: #515151;\n",
       "  --xr-background-color: #111111;\n",
       "  --xr-background-color-row-even: #111111;\n",
       "  --xr-background-color-row-odd: #313131;\n",
       "}\n",
       "\n",
       ".xr-wrap {\n",
       "  display: block !important;\n",
       "  min-width: 300px;\n",
       "  max-width: 700px;\n",
       "}\n",
       "\n",
       ".xr-text-repr-fallback {\n",
       "  /* fallback to plain text repr when CSS is not injected (untrusted notebook) */\n",
       "  display: none;\n",
       "}\n",
       "\n",
       ".xr-header {\n",
       "  padding-top: 6px;\n",
       "  padding-bottom: 6px;\n",
       "  margin-bottom: 4px;\n",
       "  border-bottom: solid 1px var(--xr-border-color);\n",
       "}\n",
       "\n",
       ".xr-header > div,\n",
       ".xr-header > ul {\n",
       "  display: inline;\n",
       "  margin-top: 0;\n",
       "  margin-bottom: 0;\n",
       "}\n",
       "\n",
       ".xr-obj-type,\n",
       ".xr-array-name {\n",
       "  margin-left: 2px;\n",
       "  margin-right: 10px;\n",
       "}\n",
       "\n",
       ".xr-obj-type {\n",
       "  color: var(--xr-font-color2);\n",
       "}\n",
       "\n",
       ".xr-sections {\n",
       "  padding-left: 0 !important;\n",
       "  display: grid;\n",
       "  grid-template-columns: 150px auto auto 1fr 0 20px 0 20px;\n",
       "}\n",
       "\n",
       ".xr-section-item {\n",
       "  display: contents;\n",
       "}\n",
       "\n",
       ".xr-section-item input {\n",
       "  display: inline-block;\n",
       "  opacity: 0;\n",
       "  height: 0;\n",
       "}\n",
       "\n",
       ".xr-section-item input + label {\n",
       "  color: var(--xr-disabled-color);\n",
       "}\n",
       "\n",
       ".xr-section-item input:enabled + label {\n",
       "  cursor: pointer;\n",
       "  color: var(--xr-font-color2);\n",
       "}\n",
       "\n",
       ".xr-section-item input:focus + label {\n",
       "  border: 2px solid var(--xr-font-color0);\n",
       "}\n",
       "\n",
       ".xr-section-item input:enabled + label:hover {\n",
       "  color: var(--xr-font-color0);\n",
       "}\n",
       "\n",
       ".xr-section-summary {\n",
       "  grid-column: 1;\n",
       "  color: var(--xr-font-color2);\n",
       "  font-weight: 500;\n",
       "}\n",
       "\n",
       ".xr-section-summary > span {\n",
       "  display: inline-block;\n",
       "  padding-left: 0.5em;\n",
       "}\n",
       "\n",
       ".xr-section-summary-in:disabled + label {\n",
       "  color: var(--xr-font-color2);\n",
       "}\n",
       "\n",
       ".xr-section-summary-in + label:before {\n",
       "  display: inline-block;\n",
       "  content: \"►\";\n",
       "  font-size: 11px;\n",
       "  width: 15px;\n",
       "  text-align: center;\n",
       "}\n",
       "\n",
       ".xr-section-summary-in:disabled + label:before {\n",
       "  color: var(--xr-disabled-color);\n",
       "}\n",
       "\n",
       ".xr-section-summary-in:checked + label:before {\n",
       "  content: \"▼\";\n",
       "}\n",
       "\n",
       ".xr-section-summary-in:checked + label > span {\n",
       "  display: none;\n",
       "}\n",
       "\n",
       ".xr-section-summary,\n",
       ".xr-section-inline-details {\n",
       "  padding-top: 4px;\n",
       "  padding-bottom: 4px;\n",
       "}\n",
       "\n",
       ".xr-section-inline-details {\n",
       "  grid-column: 2 / -1;\n",
       "}\n",
       "\n",
       ".xr-section-details {\n",
       "  display: none;\n",
       "  grid-column: 1 / -1;\n",
       "  margin-bottom: 5px;\n",
       "}\n",
       "\n",
       ".xr-section-summary-in:checked ~ .xr-section-details {\n",
       "  display: contents;\n",
       "}\n",
       "\n",
       ".xr-array-wrap {\n",
       "  grid-column: 1 / -1;\n",
       "  display: grid;\n",
       "  grid-template-columns: 20px auto;\n",
       "}\n",
       "\n",
       ".xr-array-wrap > label {\n",
       "  grid-column: 1;\n",
       "  vertical-align: top;\n",
       "}\n",
       "\n",
       ".xr-preview {\n",
       "  color: var(--xr-font-color3);\n",
       "}\n",
       "\n",
       ".xr-array-preview,\n",
       ".xr-array-data {\n",
       "  padding: 0 5px !important;\n",
       "  grid-column: 2;\n",
       "}\n",
       "\n",
       ".xr-array-data,\n",
       ".xr-array-in:checked ~ .xr-array-preview {\n",
       "  display: none;\n",
       "}\n",
       "\n",
       ".xr-array-in:checked ~ .xr-array-data,\n",
       ".xr-array-preview {\n",
       "  display: inline-block;\n",
       "}\n",
       "\n",
       ".xr-dim-list {\n",
       "  display: inline-block !important;\n",
       "  list-style: none;\n",
       "  padding: 0 !important;\n",
       "  margin: 0;\n",
       "}\n",
       "\n",
       ".xr-dim-list li {\n",
       "  display: inline-block;\n",
       "  padding: 0;\n",
       "  margin: 0;\n",
       "}\n",
       "\n",
       ".xr-dim-list:before {\n",
       "  content: \"(\";\n",
       "}\n",
       "\n",
       ".xr-dim-list:after {\n",
       "  content: \")\";\n",
       "}\n",
       "\n",
       ".xr-dim-list li:not(:last-child):after {\n",
       "  content: \",\";\n",
       "  padding-right: 5px;\n",
       "}\n",
       "\n",
       ".xr-has-index {\n",
       "  font-weight: bold;\n",
       "}\n",
       "\n",
       ".xr-var-list,\n",
       ".xr-var-item {\n",
       "  display: contents;\n",
       "}\n",
       "\n",
       ".xr-var-item > div,\n",
       ".xr-var-item label,\n",
       ".xr-var-item > .xr-var-name span {\n",
       "  background-color: var(--xr-background-color-row-even);\n",
       "  margin-bottom: 0;\n",
       "}\n",
       "\n",
       ".xr-var-item > .xr-var-name:hover span {\n",
       "  padding-right: 5px;\n",
       "}\n",
       "\n",
       ".xr-var-list > li:nth-child(odd) > div,\n",
       ".xr-var-list > li:nth-child(odd) > label,\n",
       ".xr-var-list > li:nth-child(odd) > .xr-var-name span {\n",
       "  background-color: var(--xr-background-color-row-odd);\n",
       "}\n",
       "\n",
       ".xr-var-name {\n",
       "  grid-column: 1;\n",
       "}\n",
       "\n",
       ".xr-var-dims {\n",
       "  grid-column: 2;\n",
       "}\n",
       "\n",
       ".xr-var-dtype {\n",
       "  grid-column: 3;\n",
       "  text-align: right;\n",
       "  color: var(--xr-font-color2);\n",
       "}\n",
       "\n",
       ".xr-var-preview {\n",
       "  grid-column: 4;\n",
       "}\n",
       "\n",
       ".xr-index-preview {\n",
       "  grid-column: 2 / 5;\n",
       "  color: var(--xr-font-color2);\n",
       "}\n",
       "\n",
       ".xr-var-name,\n",
       ".xr-var-dims,\n",
       ".xr-var-dtype,\n",
       ".xr-preview,\n",
       ".xr-attrs dt {\n",
       "  white-space: nowrap;\n",
       "  overflow: hidden;\n",
       "  text-overflow: ellipsis;\n",
       "  padding-right: 10px;\n",
       "}\n",
       "\n",
       ".xr-var-name:hover,\n",
       ".xr-var-dims:hover,\n",
       ".xr-var-dtype:hover,\n",
       ".xr-attrs dt:hover {\n",
       "  overflow: visible;\n",
       "  width: auto;\n",
       "  z-index: 1;\n",
       "}\n",
       "\n",
       ".xr-var-attrs,\n",
       ".xr-var-data,\n",
       ".xr-index-data {\n",
       "  display: none;\n",
       "  background-color: var(--xr-background-color) !important;\n",
       "  padding-bottom: 5px !important;\n",
       "}\n",
       "\n",
       ".xr-var-attrs-in:checked ~ .xr-var-attrs,\n",
       ".xr-var-data-in:checked ~ .xr-var-data,\n",
       ".xr-index-data-in:checked ~ .xr-index-data {\n",
       "  display: block;\n",
       "}\n",
       "\n",
       ".xr-var-data > table {\n",
       "  float: right;\n",
       "}\n",
       "\n",
       ".xr-var-name span,\n",
       ".xr-var-data,\n",
       ".xr-index-name div,\n",
       ".xr-index-data,\n",
       ".xr-attrs {\n",
       "  padding-left: 25px !important;\n",
       "}\n",
       "\n",
       ".xr-attrs,\n",
       ".xr-var-attrs,\n",
       ".xr-var-data,\n",
       ".xr-index-data {\n",
       "  grid-column: 1 / -1;\n",
       "}\n",
       "\n",
       "dl.xr-attrs {\n",
       "  padding: 0;\n",
       "  margin: 0;\n",
       "  display: grid;\n",
       "  grid-template-columns: 125px auto;\n",
       "}\n",
       "\n",
       ".xr-attrs dt,\n",
       ".xr-attrs dd {\n",
       "  padding: 0;\n",
       "  margin: 0;\n",
       "  float: left;\n",
       "  padding-right: 10px;\n",
       "  width: auto;\n",
       "}\n",
       "\n",
       ".xr-attrs dt {\n",
       "  font-weight: normal;\n",
       "  grid-column: 1;\n",
       "}\n",
       "\n",
       ".xr-attrs dt:hover span {\n",
       "  display: inline-block;\n",
       "  background: var(--xr-background-color);\n",
       "  padding-right: 10px;\n",
       "}\n",
       "\n",
       ".xr-attrs dd {\n",
       "  grid-column: 2;\n",
       "  white-space: pre-wrap;\n",
       "  word-break: break-all;\n",
       "}\n",
       "\n",
       ".xr-icon-database,\n",
       ".xr-icon-file-text2,\n",
       ".xr-no-icon {\n",
       "  display: inline-block;\n",
       "  vertical-align: middle;\n",
       "  width: 1em;\n",
       "  height: 1.5em !important;\n",
       "  stroke-width: 0;\n",
       "  stroke: currentColor;\n",
       "  fill: currentColor;\n",
       "}\n",
       "</style><pre class='xr-text-repr-fallback'>&lt;xarray.DataArray &#x27;observations&#x27; (x: 199, y: 199)&gt; Size: 317kB\n",
       "array([[2.09852012e-02, 7.21369386e-03, 1.33009777e-01, ...,\n",
       "        1.24495092e-01, 6.28268808e-01, 4.98028782e+00],\n",
       "       [0.00000000e+00, 8.23373778e-02, 7.47659219e-02, ...,\n",
       "        4.94734247e+00, 1.84313181e+00, 4.76844635e-01],\n",
       "       [0.00000000e+00, 0.00000000e+00, 1.80055441e-02, ...,\n",
       "        3.08602323e+00, 1.26297177e+00, 1.66435876e-01],\n",
       "       ...,\n",
       "       [0.00000000e+00, 0.00000000e+00, 0.00000000e+00, ...,\n",
       "        4.77045040e-02, 6.94698998e-02, 1.17313961e-01],\n",
       "       [0.00000000e+00, 0.00000000e+00, 0.00000000e+00, ...,\n",
       "        0.00000000e+00, 7.43164393e-03, 5.10794381e-02],\n",
       "       [0.00000000e+00, 0.00000000e+00, 0.00000000e+00, ...,\n",
       "        0.00000000e+00, 0.00000000e+00, 5.51827239e-04]])\n",
       "Coordinates:\n",
       "  * x           (x) int64 2kB 0 1 2 3 4 5 6 7 ... 192 193 194 195 196 197 198\n",
       "  * y           (y) int64 2kB 0 1 2 3 4 5 6 7 ... 192 193 194 195 196 197 198\n",
       "    adhd_label  int64 8B 0</pre><div class='xr-wrap' style='display:none'><div class='xr-header'><div class='xr-obj-type'>xarray.DataArray</div><div class='xr-array-name'>'observations'</div><ul class='xr-dim-list'><li><span class='xr-has-index'>x</span>: 199</li><li><span class='xr-has-index'>y</span>: 199</li></ul></div><ul class='xr-sections'><li class='xr-section-item'><div class='xr-array-wrap'><input id='section-ffda1e91-fdc0-408d-8e1c-6929c8e3901b' class='xr-array-in' type='checkbox' checked><label for='section-ffda1e91-fdc0-408d-8e1c-6929c8e3901b' title='Show/hide data repr'><svg class='icon xr-icon-database'><use xlink:href='#icon-database'></use></svg></label><div class='xr-array-preview xr-preview'><span>0.02099 0.007214 0.133 0.07822 0.06166 ... 0.0 0.0 0.0 0.0 0.0005518</span></div><div class='xr-array-data'><pre>array([[2.09852012e-02, 7.21369386e-03, 1.33009777e-01, ...,\n",
       "        1.24495092e-01, 6.28268808e-01, 4.98028782e+00],\n",
       "       [0.00000000e+00, 8.23373778e-02, 7.47659219e-02, ...,\n",
       "        4.94734247e+00, 1.84313181e+00, 4.76844635e-01],\n",
       "       [0.00000000e+00, 0.00000000e+00, 1.80055441e-02, ...,\n",
       "        3.08602323e+00, 1.26297177e+00, 1.66435876e-01],\n",
       "       ...,\n",
       "       [0.00000000e+00, 0.00000000e+00, 0.00000000e+00, ...,\n",
       "        4.77045040e-02, 6.94698998e-02, 1.17313961e-01],\n",
       "       [0.00000000e+00, 0.00000000e+00, 0.00000000e+00, ...,\n",
       "        0.00000000e+00, 7.43164393e-03, 5.10794381e-02],\n",
       "       [0.00000000e+00, 0.00000000e+00, 0.00000000e+00, ...,\n",
       "        0.00000000e+00, 0.00000000e+00, 5.51827239e-04]])</pre></div></div></li><li class='xr-section-item'><input id='section-bd7cae49-c833-446a-9be9-cc94c5c333f7' class='xr-section-summary-in' type='checkbox'  checked><label for='section-bd7cae49-c833-446a-9be9-cc94c5c333f7' class='xr-section-summary' >Coordinates: <span>(3)</span></label><div class='xr-section-inline-details'></div><div class='xr-section-details'><ul class='xr-var-list'><li class='xr-var-item'><div class='xr-var-name'><span class='xr-has-index'>x</span></div><div class='xr-var-dims'>(x)</div><div class='xr-var-dtype'>int64</div><div class='xr-var-preview xr-preview'>0 1 2 3 4 5 ... 194 195 196 197 198</div><input id='attrs-c86a8c73-4061-413c-83f8-99e1051d4851' class='xr-var-attrs-in' type='checkbox' disabled><label for='attrs-c86a8c73-4061-413c-83f8-99e1051d4851' title='Show/Hide attributes'><svg class='icon xr-icon-file-text2'><use xlink:href='#icon-file-text2'></use></svg></label><input id='data-f28b78ec-0aed-40ce-ad98-38f2013a8423' class='xr-var-data-in' type='checkbox'><label for='data-f28b78ec-0aed-40ce-ad98-38f2013a8423' title='Show/Hide data repr'><svg class='icon xr-icon-database'><use xlink:href='#icon-database'></use></svg></label><div class='xr-var-attrs'><dl class='xr-attrs'></dl></div><div class='xr-var-data'><pre>array([  0,   1,   2,   3,   4,   5,   6,   7,   8,   9,  10,  11,  12,  13,\n",
       "        14,  15,  16,  17,  18,  19,  20,  21,  22,  23,  24,  25,  26,  27,\n",
       "        28,  29,  30,  31,  32,  33,  34,  35,  36,  37,  38,  39,  40,  41,\n",
       "        42,  43,  44,  45,  46,  47,  48,  49,  50,  51,  52,  53,  54,  55,\n",
       "        56,  57,  58,  59,  60,  61,  62,  63,  64,  65,  66,  67,  68,  69,\n",
       "        70,  71,  72,  73,  74,  75,  76,  77,  78,  79,  80,  81,  82,  83,\n",
       "        84,  85,  86,  87,  88,  89,  90,  91,  92,  93,  94,  95,  96,  97,\n",
       "        98,  99, 100, 101, 102, 103, 104, 105, 106, 107, 108, 109, 110, 111,\n",
       "       112, 113, 114, 115, 116, 117, 118, 119, 120, 121, 122, 123, 124, 125,\n",
       "       126, 127, 128, 129, 130, 131, 132, 133, 134, 135, 136, 137, 138, 139,\n",
       "       140, 141, 142, 143, 144, 145, 146, 147, 148, 149, 150, 151, 152, 153,\n",
       "       154, 155, 156, 157, 158, 159, 160, 161, 162, 163, 164, 165, 166, 167,\n",
       "       168, 169, 170, 171, 172, 173, 174, 175, 176, 177, 178, 179, 180, 181,\n",
       "       182, 183, 184, 185, 186, 187, 188, 189, 190, 191, 192, 193, 194, 195,\n",
       "       196, 197, 198])</pre></div></li><li class='xr-var-item'><div class='xr-var-name'><span class='xr-has-index'>y</span></div><div class='xr-var-dims'>(y)</div><div class='xr-var-dtype'>int64</div><div class='xr-var-preview xr-preview'>0 1 2 3 4 5 ... 194 195 196 197 198</div><input id='attrs-419ebeaa-85e4-45db-99bf-9e2a8f7018b8' class='xr-var-attrs-in' type='checkbox' disabled><label for='attrs-419ebeaa-85e4-45db-99bf-9e2a8f7018b8' title='Show/Hide attributes'><svg class='icon xr-icon-file-text2'><use xlink:href='#icon-file-text2'></use></svg></label><input id='data-cfb98987-18e8-42e6-b381-df8cadc51946' class='xr-var-data-in' type='checkbox'><label for='data-cfb98987-18e8-42e6-b381-df8cadc51946' title='Show/Hide data repr'><svg class='icon xr-icon-database'><use xlink:href='#icon-database'></use></svg></label><div class='xr-var-attrs'><dl class='xr-attrs'></dl></div><div class='xr-var-data'><pre>array([  0,   1,   2,   3,   4,   5,   6,   7,   8,   9,  10,  11,  12,  13,\n",
       "        14,  15,  16,  17,  18,  19,  20,  21,  22,  23,  24,  25,  26,  27,\n",
       "        28,  29,  30,  31,  32,  33,  34,  35,  36,  37,  38,  39,  40,  41,\n",
       "        42,  43,  44,  45,  46,  47,  48,  49,  50,  51,  52,  53,  54,  55,\n",
       "        56,  57,  58,  59,  60,  61,  62,  63,  64,  65,  66,  67,  68,  69,\n",
       "        70,  71,  72,  73,  74,  75,  76,  77,  78,  79,  80,  81,  82,  83,\n",
       "        84,  85,  86,  87,  88,  89,  90,  91,  92,  93,  94,  95,  96,  97,\n",
       "        98,  99, 100, 101, 102, 103, 104, 105, 106, 107, 108, 109, 110, 111,\n",
       "       112, 113, 114, 115, 116, 117, 118, 119, 120, 121, 122, 123, 124, 125,\n",
       "       126, 127, 128, 129, 130, 131, 132, 133, 134, 135, 136, 137, 138, 139,\n",
       "       140, 141, 142, 143, 144, 145, 146, 147, 148, 149, 150, 151, 152, 153,\n",
       "       154, 155, 156, 157, 158, 159, 160, 161, 162, 163, 164, 165, 166, 167,\n",
       "       168, 169, 170, 171, 172, 173, 174, 175, 176, 177, 178, 179, 180, 181,\n",
       "       182, 183, 184, 185, 186, 187, 188, 189, 190, 191, 192, 193, 194, 195,\n",
       "       196, 197, 198])</pre></div></li><li class='xr-var-item'><div class='xr-var-name'><span>adhd_label</span></div><div class='xr-var-dims'>()</div><div class='xr-var-dtype'>int64</div><div class='xr-var-preview xr-preview'>0</div><input id='attrs-b547c86f-de0d-41d8-95c3-444117c99882' class='xr-var-attrs-in' type='checkbox' disabled><label for='attrs-b547c86f-de0d-41d8-95c3-444117c99882' title='Show/Hide attributes'><svg class='icon xr-icon-file-text2'><use xlink:href='#icon-file-text2'></use></svg></label><input id='data-13313436-124c-4dec-93a5-0df61b988709' class='xr-var-data-in' type='checkbox'><label for='data-13313436-124c-4dec-93a5-0df61b988709' title='Show/Hide data repr'><svg class='icon xr-icon-database'><use xlink:href='#icon-database'></use></svg></label><div class='xr-var-attrs'><dl class='xr-attrs'></dl></div><div class='xr-var-data'><pre>array(0)</pre></div></li></ul></div></li><li class='xr-section-item'><input id='section-2e3cf17e-6ac8-4cbb-b704-ae2d1e4fc364' class='xr-section-summary-in' type='checkbox'  ><label for='section-2e3cf17e-6ac8-4cbb-b704-ae2d1e4fc364' class='xr-section-summary' >Indexes: <span>(2)</span></label><div class='xr-section-inline-details'></div><div class='xr-section-details'><ul class='xr-var-list'><li class='xr-var-item'><div class='xr-index-name'><div>x</div></div><div class='xr-index-preview'>PandasIndex</div><input type='checkbox' disabled/><label></label><input id='index-617cffca-39d0-4d9e-a53c-a66c1f187571' class='xr-index-data-in' type='checkbox'/><label for='index-617cffca-39d0-4d9e-a53c-a66c1f187571' title='Show/Hide index repr'><svg class='icon xr-icon-database'><use xlink:href='#icon-database'></use></svg></label><div class='xr-index-data'><pre>PandasIndex(Index([  0,   1,   2,   3,   4,   5,   6,   7,   8,   9,\n",
       "       ...\n",
       "       189, 190, 191, 192, 193, 194, 195, 196, 197, 198],\n",
       "      dtype=&#x27;int64&#x27;, name=&#x27;x&#x27;, length=199))</pre></div></li><li class='xr-var-item'><div class='xr-index-name'><div>y</div></div><div class='xr-index-preview'>PandasIndex</div><input type='checkbox' disabled/><label></label><input id='index-f1fd76d8-0e2d-4e14-a684-0bbb1d043d5b' class='xr-index-data-in' type='checkbox'/><label for='index-f1fd76d8-0e2d-4e14-a684-0bbb1d043d5b' title='Show/Hide index repr'><svg class='icon xr-icon-database'><use xlink:href='#icon-database'></use></svg></label><div class='xr-index-data'><pre>PandasIndex(Index([  0,   1,   2,   3,   4,   5,   6,   7,   8,   9,\n",
       "       ...\n",
       "       189, 190, 191, 192, 193, 194, 195, 196, 197, 198],\n",
       "      dtype=&#x27;int64&#x27;, name=&#x27;y&#x27;, length=199))</pre></div></li></ul></div></li><li class='xr-section-item'><input id='section-b94ed646-1fea-446e-b16e-0f39ebf759c7' class='xr-section-summary-in' type='checkbox' disabled ><label for='section-b94ed646-1fea-446e-b16e-0f39ebf759c7' class='xr-section-summary'  title='Expand/collapse section'>Attributes: <span>(0)</span></label><div class='xr-section-inline-details'></div><div class='xr-section-details'><dl class='xr-attrs'></dl></div></li></ul></div></div>"
      ],
      "text/plain": [
       "<xarray.DataArray 'observations' (x: 199, y: 199)> Size: 317kB\n",
       "array([[2.09852012e-02, 7.21369386e-03, 1.33009777e-01, ...,\n",
       "        1.24495092e-01, 6.28268808e-01, 4.98028782e+00],\n",
       "       [0.00000000e+00, 8.23373778e-02, 7.47659219e-02, ...,\n",
       "        4.94734247e+00, 1.84313181e+00, 4.76844635e-01],\n",
       "       [0.00000000e+00, 0.00000000e+00, 1.80055441e-02, ...,\n",
       "        3.08602323e+00, 1.26297177e+00, 1.66435876e-01],\n",
       "       ...,\n",
       "       [0.00000000e+00, 0.00000000e+00, 0.00000000e+00, ...,\n",
       "        4.77045040e-02, 6.94698998e-02, 1.17313961e-01],\n",
       "       [0.00000000e+00, 0.00000000e+00, 0.00000000e+00, ...,\n",
       "        0.00000000e+00, 7.43164393e-03, 5.10794381e-02],\n",
       "       [0.00000000e+00, 0.00000000e+00, 0.00000000e+00, ...,\n",
       "        0.00000000e+00, 0.00000000e+00, 5.51827239e-04]])\n",
       "Coordinates:\n",
       "  * x           (x) int64 2kB 0 1 2 3 4 5 6 7 ... 192 193 194 195 196 197 198\n",
       "  * y           (y) int64 2kB 0 1 2 3 4 5 6 7 ... 192 193 194 195 196 197 198\n",
       "    adhd_label  int64 8B 0"
      ]
     },
     "execution_count": 117,
     "metadata": {},
     "output_type": "execute_result"
    }
   ],
   "source": [
    "relative_diff"
   ]
  },
  {
   "cell_type": "code",
   "execution_count": 124,
   "metadata": {},
   "outputs": [
    {
     "data": {
      "text/plain": [
       "Text(0.5, 1.0, 'Relative difference in mean between ADHD =1 and ADHD =0')"
      ]
     },
     "execution_count": 124,
     "metadata": {},
     "output_type": "execute_result"
    },
    {
     "data": {
      "image/png": "[encoded data removed]",
      "text/plain": [
       "<Figure size 640x480 with 2 Axes>"
      ]
     },
     "metadata": {},
     "output_type": "display_data"
    }
   ],
   "source": [
    "relative_diff.transpose(\"y\", \"x\").plot()\n",
    "plt.title('Relative difference in mean between ADHD =1 and ADHD =0')\n",
    "#abs((grouped_mean.sel(adhd_label=1) - grouped_mean.sel(adhd_label=0))/grouped_mean.sel(adhd_label=0)).plot()"
   ]
  },
  {
   "cell_type": "code",
   "execution_count": 119,
   "metadata": {},
   "outputs": [],
   "source": [
    "ds2 = relative_diff\n",
    "#abs((grouped_mean.sel(adhd_label=1) - grouped_mean.sel(adhd_label=0))/grouped_mean.sel(adhd_label=0))"
   ]
  },
  {
   "cell_type": "code",
   "execution_count": 120,
   "metadata": {},
   "outputs": [],
   "source": [
    "flat_values = ds2.values.flatten()\n",
    "# Ensure no NaNs are affecting sorting\n",
    "valid_mask = ~np.isnan(flat_values)\n",
    "sorted_indices = np.argsort(flat_values[valid_mask])[-20:]  # Get top 5 indices\n"
   ]
  },
  {
   "cell_type": "code",
   "execution_count": 121,
   "metadata": {},
   "outputs": [
    {
     "name": "stdout",
     "output_type": "stream",
     "text": [
      "Rank 1: (x=106, y=128) -> Value: 285.9147059399992\n",
      "Rank 2: (x=106, y=159) -> Value: 286.66835153071344\n",
      "Rank 3: (x=8, y=153) -> Value: 303.79858342043065\n",
      "Rank 4: (x=91, y=106) -> Value: 311.3927616311057\n",
      "Rank 5: (x=108, y=115) -> Value: 314.2208353303954\n",
      "Rank 6: (x=22, y=168) -> Value: 314.69921194908915\n",
      "Rank 7: (x=3, y=165) -> Value: 342.6979098416633\n",
      "Rank 8: (x=11, y=191) -> Value: 352.36266604719134\n",
      "Rank 9: (x=72, y=186) -> Value: 355.32310296717486\n",
      "Rank 10: (x=95, y=144) -> Value: 390.29338446181345\n",
      "Rank 11: (x=105, y=158) -> Value: 393.4165720914769\n",
      "Rank 12: (x=6, y=192) -> Value: 397.00057740637334\n",
      "Rank 13: (x=109, y=191) -> Value: 437.05649471510435\n",
      "Rank 14: (x=10, y=183) -> Value: 574.720249835719\n",
      "Rank 15: (x=132, y=190) -> Value: 714.7017719761764\n",
      "Rank 16: (x=20, y=113) -> Value: 1044.82137241359\n",
      "Rank 17: (x=101, y=122) -> Value: 1122.0614125660381\n",
      "Rank 18: (x=186, y=192) -> Value: 1124.7419461176216\n",
      "Rank 19: (x=12, y=93) -> Value: 1653.8430573405085\n",
      "Rank 20: (x=95, y=118) -> Value: 1995.5260026769818\n"
     ]
    }
   ],
   "source": [
    "# Convert indices back to (x, y) coordinates\n",
    "x_dim, y_dim = ds2.sizes[\"x\"], ds2.sizes[\"y\"]\n",
    "valid_indices = np.where(valid_mask)[0]  # Map to valid index positions\n",
    "top_5_coords = [np.unravel_index(valid_indices[idx], (x_dim, y_dim)) for idx in sorted_indices]\n",
    "\n",
    "# Get the top 5 values\n",
    "top_5_values = flat_values[valid_mask][sorted_indices]\n",
    "\n",
    "# Print results\n",
    "for i, ((x, y), value) in enumerate(zip(top_5_coords, top_5_values)):\n",
    "    print(f\"Rank {i+1}: (x={x}, y={y}) -> Value: {value}\")"
   ]
  },
  {
   "cell_type": "code",
   "execution_count": 122,
   "metadata": {},
   "outputs": [
    {
     "name": "stdout",
     "output_type": "stream",
     "text": [
      "Min denominator: -0.029741855594624122\n",
      "Mean denominator: 0.0022565311725630693\n",
      "Max denominator: 0.32697783968527283\n"
     ]
    }
   ],
   "source": [
    "denom = grouped_mean.sel(adhd_label=0)\n",
    "print(\"Min denominator:\", denom.min().values)\n",
    "print(\"Mean denominator:\", denom.mean().values)\n",
    "print(\"Max denominator:\", denom.max().values)"
   ]
  },
  {
   "cell_type": "code",
   "execution_count": null,
   "metadata": {},
   "outputs": [],
   "source": [
    "Top 7 brain regions where the % difference across ADHD =1 and ADHD =0\n",
    "- Top region is more than double the next region (x=95,y=118)\n",
    "- Cut in half again from 7-8th position, going from >1000 to under 600"
   ]
  }
 ],
 "metadata": {
  "kernelspec": {
   "display_name": "caleb",
   "language": "python",
   "name": "pipenv-python3.12"
  },
  "language_info": {
   "codemirror_mode": {
    "name": "ipython",
    "version": 3
   },
   "file_extension": ".py",
   "mimetype": "text/x-python",
   "name": "python",
   "nbconvert_exporter": "python",
   "pygments_lexer": "ipython3",
   "version": "3.11.11"
  },
  "orig_nbformat": 4,
  "vscode": {
   "interpreter": {
    "hash": "3648ed3ee9dddee87dc34cc06df7e231dd1e8360036eeb9d42e97fd68e040d82"
   }
  }
 },
 "nbformat": 4,
 "nbformat_minor": 2
}
